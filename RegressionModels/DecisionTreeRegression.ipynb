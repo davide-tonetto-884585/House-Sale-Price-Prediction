{
 "cells": [
  {
   "cell_type": "code",
   "execution_count": 3,
   "metadata": {
    "collapsed": true
   },
   "outputs": [],
   "source": [
    "import pandas as pd\n",
    "import numpy as np\n",
    "import matplotlib.pyplot as plt\n",
    "from sklearn.tree import DecisionTreeRegressor\n",
    "from sklearn.metrics import mean_squared_error\n",
    "\n",
    "X_train = pd.read_csv('../data/X_train.csv')\n",
    "X_test = pd.read_csv('../data/X_test.csv')\n",
    "Y_train = pd.read_csv('../data/Y_train.csv')\n",
    "Y_test = pd.read_csv('../data/Y_test.csv')"
   ]
  },
  {
   "cell_type": "markdown",
   "source": [
    "# Decision Tree Regression"
   ],
   "metadata": {
    "collapsed": false
   }
  },
  {
   "cell_type": "code",
   "execution_count": 4,
   "outputs": [
    {
     "data": {
      "text/plain": "<Figure size 432x288 with 1 Axes>",
      "image/png": "[encoded data removed]"
     },
     "metadata": {},
     "output_type": "display_data"
    }
   ],
   "source": [
    "errors = []\n",
    "\n",
    "for max_leaves in range(2,100):\n",
    "    # train and predict\n",
    "    dt = DecisionTreeRegressor(max_leaf_nodes=max_leaves)\n",
    "    dt.fit(X_train,Y_train)\n",
    "\n",
    "    # compute Accuracy\n",
    "    train_acc = mean_squared_error(y_true=Y_train, y_pred=dt.predict(X_train))\n",
    "    test_acc  = mean_squared_error(y_true=Y_test,  y_pred=dt.predict(X_test))\n",
    "\n",
    "    errors += [ [max_leaves, train_acc, test_acc] ]\n",
    "\n",
    "errors = np.array(errors)\n",
    "\n",
    "fig, ax = plt.subplots()\n",
    "ax.plot(errors[:,0], errors[:,1], \"x:\", label=\"Train\")\n",
    "ax.plot(errors[:,0], errors[:,2], \"o-\", label=\"Test\")\n",
    "ax.set_ylabel(\"MSE\")\n",
    "ax.set_xlabel(\"Number of Leaves\")\n",
    "ax.grid()\n",
    "ax.legend();"
   ],
   "metadata": {
    "collapsed": false
   }
  },
  {
   "cell_type": "code",
   "execution_count": 5,
   "outputs": [
    {
     "name": "stdout",
     "output_type": "stream",
     "text": [
      "Train Error: 1040027901.756\n",
      "Train Error: 1125416336.329\n"
     ]
    }
   ],
   "source": [
    "# it seems that around 20 as max_leaves parameter the test becomes worse than the train. Let's see what MSE we have when max_leaves=20\n",
    "\n",
    "dt = DecisionTreeRegressor(max_leaf_nodes=20)\n",
    "dt.fit(X_train,Y_train)\n",
    "\n",
    "print(\"Train Error: {:.3f}\".format(mean_squared_error(y_true=Y_train, y_pred=dt.predict(X_train)) ))\n",
    "print(\"Train Error: {:.3f}\".format(mean_squared_error(y_true=Y_test,  y_pred=dt.predict(X_test)) ))\n"
   ],
   "metadata": {
    "collapsed": false
   }
  },
  {
   "cell_type": "code",
   "execution_count": 6,
   "outputs": [
    {
     "name": "stdout",
     "output_type": "stream",
     "text": [
      "Train Error: 1061214701.173\n",
      "Train Error: 1119285478.960\n"
     ]
    }
   ],
   "source": [
    "# it seems that around 20 as max_leaves parameter the test becomes worse than the train. Let's see what MSE we have when max_leaves=19\n",
    "\n",
    "dt = DecisionTreeRegressor(max_leaf_nodes=19)\n",
    "dt.fit(X_train,Y_train)\n",
    "\n",
    "print(\"Train Error: {:.3f}\".format(mean_squared_error(y_true=Y_train, y_pred=dt.predict(X_train)) ))\n",
    "print(\"Train Error: {:.3f}\".format(mean_squared_error(y_true=Y_test,  y_pred=dt.predict(X_test)) ))"
   ],
   "metadata": {
    "collapsed": false
   }
  },
  {
   "cell_type": "markdown",
   "source": [
    "These results aren't satisfactory because the Mean Squared Error is very high both in the training phase and in the test phase"
   ],
   "metadata": {
    "collapsed": false
   }
  }
 ],
 "metadata": {
  "kernelspec": {
   "display_name": "Python 3",
   "language": "python",
   "name": "python3"
  },
  "language_info": {
   "codemirror_mode": {
    "name": "ipython",
    "version": 2
   },
   "file_extension": ".py",
   "mimetype": "text/x-python",
   "name": "python",
   "nbconvert_exporter": "python",
   "pygments_lexer": "ipython2",
   "version": "2.7.6"
  }
 },
 "nbformat": 4,
 "nbformat_minor": 0
}
