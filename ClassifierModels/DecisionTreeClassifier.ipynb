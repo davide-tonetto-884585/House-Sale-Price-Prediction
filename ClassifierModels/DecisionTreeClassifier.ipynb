{
 "cells": [
  {
   "cell_type": "code",
   "execution_count": 15,
   "outputs": [],
   "source": [
    "import numpy as np\n",
    "import matplotlib.pyplot as plt\n",
    "from sklearn.metrics import accuracy_score\n",
    "from sklearn.datasets import make_blobs\n",
    "import pandas as pd\n",
    "from sklearn.tree import DecisionTreeClassifier\n",
    "from sklearn.tree import plot_tree\n",
    "from sklearn.preprocessing import KBinsDiscretizer\n",
    "\n",
    "X_train = pd.read_csv('../data/X_train.csv')\n",
    "X_test = pd.read_csv(\"../data/X_test.csv\")\n",
    "Y_train = pd.read_csv(\"../data/Y_train.csv\")\n",
    "Y_test = pd.read_csv(\"../data/Y_test.csv\")"
   ],
   "metadata": {
    "collapsed": false
   }
  },
  {
   "cell_type": "markdown",
   "source": [
    "# Decision Tree Classifier\n",
    "Proviamo due diversi approcci alla codifica delle etichette derivate dall'intervallo di prezzi Y: eseguiamo un primo tentativo con degli intervalli di prezzo basati sui quantili e di seguito un secondo tentativo usando degli intervalli di prezzo discretizzati con la strategia \"kmeans\"."
   ],
   "metadata": {
    "collapsed": false
   }
  },
  {
   "cell_type": "code",
   "execution_count": 16,
   "outputs": [],
   "source": [
    "enc1 = KBinsDiscretizer(n_bins=20, encode=\"ordinal\", strategy=\"quantile\")\n",
    "Y_train_binned1 = enc1.fit_transform(Y_train)\n",
    "Y_test_binned1 = enc1.fit_transform(Y_test)\n",
    "\n",
    "Y_train_binned1 = Y_train_binned1.ravel()\n",
    "Y_test_binned1 = Y_test_binned1.ravel()\n",
    "\n",
    "######\n",
    "\n",
    "enc2 = KBinsDiscretizer(n_bins=10, encode=\"ordinal\", strategy=\"kmeans\")\n",
    "Y_train_binned2 = enc2.fit_transform(Y_train)\n",
    "Y_test_binned2 = enc2.fit_transform(Y_test)"
   ],
   "metadata": {
    "collapsed": false
   }
  },
  {
   "cell_type": "markdown",
   "source": [
    "Ora proviamo ad applicare un modello DecisionTreeClassifier ai nostri dataset e osserviamo i diversi valori di Train Accuracy e di Test Accuracy che possiamo ottenere al variare dell'iper-parametro max_leaf_nodes del modello."
   ],
   "metadata": {
    "collapsed": false
   }
  },
  {
   "cell_type": "code",
   "execution_count": 17,
   "outputs": [
    {
     "name": "stdout",
     "output_type": "stream",
     "text": [
      "n_max_leaves: 2 Train Accuracy: 0.105 - Test Accuracy: 0.097\n",
      "n_max_leaves: 3 Train Accuracy: 0.143 - Test Accuracy: 0.143\n",
      "n_max_leaves: 4 Train Accuracy: 0.160 - Test Accuracy: 0.164\n",
      "n_max_leaves: 5 Train Accuracy: 0.183 - Test Accuracy: 0.191\n",
      "n_max_leaves: 6 Train Accuracy: 0.198 - Test Accuracy: 0.203\n",
      "n_max_leaves: 7 Train Accuracy: 0.208 - Test Accuracy: 0.208\n",
      "n_max_leaves: 8 Train Accuracy: 0.210 - Test Accuracy: 0.205\n",
      "n_max_leaves: 9 Train Accuracy: 0.220 - Test Accuracy: 0.203\n",
      "n_max_leaves: 10 Train Accuracy: 0.221 - Test Accuracy: 0.217\n",
      "n_max_leaves: 11 Train Accuracy: 0.226 - Test Accuracy: 0.213\n",
      "n_max_leaves: 12 Train Accuracy: 0.232 - Test Accuracy: 0.217\n",
      "n_max_leaves: 13 Train Accuracy: 0.237 - Test Accuracy: 0.222\n",
      "n_max_leaves: 14 Train Accuracy: 0.243 - Test Accuracy: 0.234\n",
      "n_max_leaves: 15 Train Accuracy: 0.249 - Test Accuracy: 0.246\n",
      "n_max_leaves: 16 Train Accuracy: 0.254 - Test Accuracy: 0.247\n",
      "n_max_leaves: 17 Train Accuracy: 0.261 - Test Accuracy: 0.254\n",
      "n_max_leaves: 18 Train Accuracy: 0.262 - Test Accuracy: 0.256\n",
      "n_max_leaves: 19 Train Accuracy: 0.268 - Test Accuracy: 0.259\n",
      "n_max_leaves: 20 Train Accuracy: 0.271 - Test Accuracy: 0.266\n",
      "n_max_leaves: 21 Train Accuracy: 0.275 - Test Accuracy: 0.270\n",
      "n_max_leaves: 22 Train Accuracy: 0.275 - Test Accuracy: 0.261\n",
      "n_max_leaves: 23 Train Accuracy: 0.280 - Test Accuracy: 0.265\n",
      "n_max_leaves: 24 Train Accuracy: 0.284 - Test Accuracy: 0.266\n",
      "n_max_leaves: 25 Train Accuracy: 0.289 - Test Accuracy: 0.258\n",
      "n_max_leaves: 26 Train Accuracy: 0.294 - Test Accuracy: 0.253\n",
      "n_max_leaves: 27 Train Accuracy: 0.295 - Test Accuracy: 0.251\n",
      "n_max_leaves: 28 Train Accuracy: 0.298 - Test Accuracy: 0.251\n",
      "n_max_leaves: 29 Train Accuracy: 0.302 - Test Accuracy: 0.249\n",
      "n_max_leaves: 30 Train Accuracy: 0.305 - Test Accuracy: 0.249\n",
      "n_max_leaves: 31 Train Accuracy: 0.308 - Test Accuracy: 0.251\n",
      "n_max_leaves: 32 Train Accuracy: 0.311 - Test Accuracy: 0.249\n",
      "n_max_leaves: 33 Train Accuracy: 0.316 - Test Accuracy: 0.247\n",
      "n_max_leaves: 34 Train Accuracy: 0.319 - Test Accuracy: 0.247\n",
      "n_max_leaves: 35 Train Accuracy: 0.322 - Test Accuracy: 0.249\n",
      "n_max_leaves: 36 Train Accuracy: 0.324 - Test Accuracy: 0.251\n",
      "n_max_leaves: 37 Train Accuracy: 0.327 - Test Accuracy: 0.251\n",
      "n_max_leaves: 38 Train Accuracy: 0.335 - Test Accuracy: 0.258\n",
      "n_max_leaves: 39 Train Accuracy: 0.335 - Test Accuracy: 0.258\n",
      "n_max_leaves: 40 Train Accuracy: 0.338 - Test Accuracy: 0.265\n",
      "n_max_leaves: 41 Train Accuracy: 0.339 - Test Accuracy: 0.265\n",
      "n_max_leaves: 42 Train Accuracy: 0.341 - Test Accuracy: 0.265\n",
      "n_max_leaves: 43 Train Accuracy: 0.344 - Test Accuracy: 0.263\n",
      "n_max_leaves: 44 Train Accuracy: 0.348 - Test Accuracy: 0.259\n",
      "n_max_leaves: 45 Train Accuracy: 0.350 - Test Accuracy: 0.259\n",
      "n_max_leaves: 46 Train Accuracy: 0.355 - Test Accuracy: 0.259\n",
      "n_max_leaves: 47 Train Accuracy: 0.357 - Test Accuracy: 0.259\n",
      "n_max_leaves: 48 Train Accuracy: 0.359 - Test Accuracy: 0.259\n",
      "n_max_leaves: 49 Train Accuracy: 0.362 - Test Accuracy: 0.251\n",
      "n_max_leaves: 50 Train Accuracy: 0.363 - Test Accuracy: 0.247\n",
      "n_max_leaves: 51 Train Accuracy: 0.364 - Test Accuracy: 0.247\n",
      "n_max_leaves: 52 Train Accuracy: 0.366 - Test Accuracy: 0.247\n",
      "n_max_leaves: 53 Train Accuracy: 0.368 - Test Accuracy: 0.244\n",
      "n_max_leaves: 54 Train Accuracy: 0.371 - Test Accuracy: 0.246\n",
      "n_max_leaves: 55 Train Accuracy: 0.371 - Test Accuracy: 0.246\n",
      "n_max_leaves: 56 Train Accuracy: 0.371 - Test Accuracy: 0.251\n",
      "n_max_leaves: 57 Train Accuracy: 0.373 - Test Accuracy: 0.246\n",
      "n_max_leaves: 58 Train Accuracy: 0.376 - Test Accuracy: 0.244\n",
      "n_max_leaves: 59 Train Accuracy: 0.377 - Test Accuracy: 0.242\n",
      "n_max_leaves: 60 Train Accuracy: 0.378 - Test Accuracy: 0.242\n",
      "n_max_leaves: 61 Train Accuracy: 0.380 - Test Accuracy: 0.242\n",
      "n_max_leaves: 62 Train Accuracy: 0.381 - Test Accuracy: 0.247\n",
      "n_max_leaves: 63 Train Accuracy: 0.383 - Test Accuracy: 0.247\n",
      "n_max_leaves: 64 Train Accuracy: 0.385 - Test Accuracy: 0.249\n",
      "n_max_leaves: 65 Train Accuracy: 0.388 - Test Accuracy: 0.249\n",
      "n_max_leaves: 66 Train Accuracy: 0.389 - Test Accuracy: 0.247\n",
      "n_max_leaves: 67 Train Accuracy: 0.392 - Test Accuracy: 0.247\n",
      "n_max_leaves: 68 Train Accuracy: 0.393 - Test Accuracy: 0.249\n",
      "n_max_leaves: 69 Train Accuracy: 0.395 - Test Accuracy: 0.247\n",
      "n_max_leaves: 70 Train Accuracy: 0.396 - Test Accuracy: 0.249\n",
      "n_max_leaves: 71 Train Accuracy: 0.398 - Test Accuracy: 0.249\n",
      "n_max_leaves: 72 Train Accuracy: 0.399 - Test Accuracy: 0.246\n",
      "n_max_leaves: 73 Train Accuracy: 0.401 - Test Accuracy: 0.244\n",
      "n_max_leaves: 74 Train Accuracy: 0.402 - Test Accuracy: 0.244\n",
      "n_max_leaves: 75 Train Accuracy: 0.404 - Test Accuracy: 0.244\n",
      "n_max_leaves: 76 Train Accuracy: 0.405 - Test Accuracy: 0.244\n",
      "n_max_leaves: 77 Train Accuracy: 0.408 - Test Accuracy: 0.242\n",
      "n_max_leaves: 78 Train Accuracy: 0.410 - Test Accuracy: 0.242\n",
      "n_max_leaves: 79 Train Accuracy: 0.412 - Test Accuracy: 0.242\n",
      "n_max_leaves: 80 Train Accuracy: 0.413 - Test Accuracy: 0.242\n",
      "n_max_leaves: 81 Train Accuracy: 0.415 - Test Accuracy: 0.242\n",
      "n_max_leaves: 82 Train Accuracy: 0.416 - Test Accuracy: 0.242\n",
      "n_max_leaves: 83 Train Accuracy: 0.418 - Test Accuracy: 0.246\n",
      "n_max_leaves: 84 Train Accuracy: 0.419 - Test Accuracy: 0.244\n",
      "n_max_leaves: 85 Train Accuracy: 0.420 - Test Accuracy: 0.244\n",
      "n_max_leaves: 86 Train Accuracy: 0.421 - Test Accuracy: 0.244\n",
      "n_max_leaves: 87 Train Accuracy: 0.421 - Test Accuracy: 0.244\n",
      "n_max_leaves: 88 Train Accuracy: 0.422 - Test Accuracy: 0.244\n",
      "n_max_leaves: 89 Train Accuracy: 0.423 - Test Accuracy: 0.244\n",
      "n_max_leaves: 90 Train Accuracy: 0.424 - Test Accuracy: 0.241\n",
      "n_max_leaves: 91 Train Accuracy: 0.426 - Test Accuracy: 0.241\n",
      "n_max_leaves: 92 Train Accuracy: 0.427 - Test Accuracy: 0.241\n",
      "n_max_leaves: 93 Train Accuracy: 0.427 - Test Accuracy: 0.247\n",
      "n_max_leaves: 94 Train Accuracy: 0.431 - Test Accuracy: 0.244\n",
      "n_max_leaves: 95 Train Accuracy: 0.432 - Test Accuracy: 0.244\n",
      "n_max_leaves: 96 Train Accuracy: 0.432 - Test Accuracy: 0.246\n",
      "n_max_leaves: 97 Train Accuracy: 0.433 - Test Accuracy: 0.246\n",
      "n_max_leaves: 98 Train Accuracy: 0.435 - Test Accuracy: 0.246\n",
      "n_max_leaves: 99 Train Accuracy: 0.435 - Test Accuracy: 0.247\n"
     ]
    }
   ],
   "source": [
    "for max_leaves in range(2,100):\n",
    "    # train and predict\n",
    "    dt1 = DecisionTreeClassifier(max_leaf_nodes=max_leaves)\n",
    "    dt1.fit(X_train,Y_train_binned1)\n",
    "\n",
    "    # compute Accuracy\n",
    "    train_acc = accuracy_score(y_true = Y_train_binned1, y_pred = dt1.predict(X_train))\n",
    "    test_acc  = accuracy_score(y_true = Y_test_binned1,  y_pred = dt1.predict(X_test))\n",
    "    print (\"n_max_leaves: {:d} Train Accuracy: {:.3f} - Test Accuracy: {:.3f}\".format(max_leaves, train_acc,test_acc))"
   ],
   "metadata": {
    "collapsed": false
   }
  },
  {
   "cell_type": "markdown",
   "source": [
    "Si noti che, eseguendo il modello con la divisione dei prezzi in intervalli basati sui quantili, la migliore coppia di performance si ottiene quando l'iper-parametro max_leaf_nodes è pari a 99, in particolare si ha Train accuracy = 0.435 e Test Accuracy = 0.247"
   ],
   "metadata": {
    "collapsed": false
   }
  },
  {
   "cell_type": "code",
   "execution_count": 18,
   "outputs": [
    {
     "name": "stdout",
     "output_type": "stream",
     "text": [
      "n_max_leaves: 2 Train Accuracy: 0.345 - Test Accuracy: 0.162\n",
      "n_max_leaves: 3 Train Accuracy: 0.393 - Test Accuracy: 0.217\n",
      "n_max_leaves: 4 Train Accuracy: 0.426 - Test Accuracy: 0.177\n",
      "n_max_leaves: 5 Train Accuracy: 0.462 - Test Accuracy: 0.201\n",
      "n_max_leaves: 6 Train Accuracy: 0.483 - Test Accuracy: 0.159\n",
      "n_max_leaves: 7 Train Accuracy: 0.490 - Test Accuracy: 0.125\n",
      "n_max_leaves: 8 Train Accuracy: 0.506 - Test Accuracy: 0.164\n",
      "n_max_leaves: 9 Train Accuracy: 0.520 - Test Accuracy: 0.167\n",
      "n_max_leaves: 10 Train Accuracy: 0.533 - Test Accuracy: 0.167\n",
      "n_max_leaves: 11 Train Accuracy: 0.539 - Test Accuracy: 0.174\n",
      "n_max_leaves: 12 Train Accuracy: 0.555 - Test Accuracy: 0.155\n",
      "n_max_leaves: 13 Train Accuracy: 0.566 - Test Accuracy: 0.179\n",
      "n_max_leaves: 14 Train Accuracy: 0.576 - Test Accuracy: 0.162\n",
      "n_max_leaves: 15 Train Accuracy: 0.586 - Test Accuracy: 0.167\n",
      "n_max_leaves: 16 Train Accuracy: 0.586 - Test Accuracy: 0.167\n",
      "n_max_leaves: 17 Train Accuracy: 0.589 - Test Accuracy: 0.155\n",
      "n_max_leaves: 18 Train Accuracy: 0.591 - Test Accuracy: 0.172\n",
      "n_max_leaves: 19 Train Accuracy: 0.596 - Test Accuracy: 0.169\n",
      "n_max_leaves: 20 Train Accuracy: 0.599 - Test Accuracy: 0.169\n",
      "n_max_leaves: 21 Train Accuracy: 0.601 - Test Accuracy: 0.181\n",
      "n_max_leaves: 22 Train Accuracy: 0.609 - Test Accuracy: 0.179\n",
      "n_max_leaves: 23 Train Accuracy: 0.617 - Test Accuracy: 0.179\n",
      "n_max_leaves: 24 Train Accuracy: 0.629 - Test Accuracy: 0.167\n",
      "n_max_leaves: 25 Train Accuracy: 0.632 - Test Accuracy: 0.169\n",
      "n_max_leaves: 26 Train Accuracy: 0.632 - Test Accuracy: 0.169\n",
      "n_max_leaves: 27 Train Accuracy: 0.635 - Test Accuracy: 0.169\n",
      "n_max_leaves: 28 Train Accuracy: 0.639 - Test Accuracy: 0.162\n",
      "n_max_leaves: 29 Train Accuracy: 0.641 - Test Accuracy: 0.167\n",
      "n_max_leaves: 30 Train Accuracy: 0.645 - Test Accuracy: 0.164\n",
      "n_max_leaves: 31 Train Accuracy: 0.651 - Test Accuracy: 0.166\n",
      "n_max_leaves: 32 Train Accuracy: 0.655 - Test Accuracy: 0.167\n",
      "n_max_leaves: 33 Train Accuracy: 0.661 - Test Accuracy: 0.160\n",
      "n_max_leaves: 34 Train Accuracy: 0.665 - Test Accuracy: 0.157\n",
      "n_max_leaves: 35 Train Accuracy: 0.667 - Test Accuracy: 0.157\n",
      "n_max_leaves: 36 Train Accuracy: 0.670 - Test Accuracy: 0.157\n",
      "n_max_leaves: 37 Train Accuracy: 0.670 - Test Accuracy: 0.154\n",
      "n_max_leaves: 38 Train Accuracy: 0.673 - Test Accuracy: 0.154\n",
      "n_max_leaves: 39 Train Accuracy: 0.676 - Test Accuracy: 0.157\n",
      "n_max_leaves: 40 Train Accuracy: 0.678 - Test Accuracy: 0.159\n",
      "n_max_leaves: 41 Train Accuracy: 0.678 - Test Accuracy: 0.159\n",
      "n_max_leaves: 42 Train Accuracy: 0.681 - Test Accuracy: 0.164\n",
      "n_max_leaves: 43 Train Accuracy: 0.684 - Test Accuracy: 0.167\n",
      "n_max_leaves: 44 Train Accuracy: 0.686 - Test Accuracy: 0.169\n",
      "n_max_leaves: 45 Train Accuracy: 0.687 - Test Accuracy: 0.171\n",
      "n_max_leaves: 46 Train Accuracy: 0.690 - Test Accuracy: 0.169\n",
      "n_max_leaves: 47 Train Accuracy: 0.692 - Test Accuracy: 0.169\n",
      "n_max_leaves: 48 Train Accuracy: 0.693 - Test Accuracy: 0.171\n",
      "n_max_leaves: 49 Train Accuracy: 0.696 - Test Accuracy: 0.162\n",
      "n_max_leaves: 50 Train Accuracy: 0.700 - Test Accuracy: 0.166\n",
      "n_max_leaves: 51 Train Accuracy: 0.701 - Test Accuracy: 0.164\n",
      "n_max_leaves: 52 Train Accuracy: 0.702 - Test Accuracy: 0.162\n",
      "n_max_leaves: 53 Train Accuracy: 0.703 - Test Accuracy: 0.159\n",
      "n_max_leaves: 54 Train Accuracy: 0.706 - Test Accuracy: 0.162\n",
      "n_max_leaves: 55 Train Accuracy: 0.708 - Test Accuracy: 0.167\n",
      "n_max_leaves: 56 Train Accuracy: 0.710 - Test Accuracy: 0.167\n",
      "n_max_leaves: 57 Train Accuracy: 0.710 - Test Accuracy: 0.169\n",
      "n_max_leaves: 58 Train Accuracy: 0.713 - Test Accuracy: 0.171\n",
      "n_max_leaves: 59 Train Accuracy: 0.713 - Test Accuracy: 0.172\n",
      "n_max_leaves: 60 Train Accuracy: 0.715 - Test Accuracy: 0.172\n",
      "n_max_leaves: 61 Train Accuracy: 0.716 - Test Accuracy: 0.176\n",
      "n_max_leaves: 62 Train Accuracy: 0.717 - Test Accuracy: 0.174\n",
      "n_max_leaves: 63 Train Accuracy: 0.720 - Test Accuracy: 0.176\n",
      "n_max_leaves: 64 Train Accuracy: 0.722 - Test Accuracy: 0.177\n",
      "n_max_leaves: 65 Train Accuracy: 0.725 - Test Accuracy: 0.177\n",
      "n_max_leaves: 66 Train Accuracy: 0.726 - Test Accuracy: 0.177\n",
      "n_max_leaves: 67 Train Accuracy: 0.728 - Test Accuracy: 0.179\n",
      "n_max_leaves: 68 Train Accuracy: 0.728 - Test Accuracy: 0.179\n",
      "n_max_leaves: 69 Train Accuracy: 0.729 - Test Accuracy: 0.179\n",
      "n_max_leaves: 70 Train Accuracy: 0.731 - Test Accuracy: 0.179\n",
      "n_max_leaves: 71 Train Accuracy: 0.732 - Test Accuracy: 0.183\n",
      "n_max_leaves: 72 Train Accuracy: 0.734 - Test Accuracy: 0.183\n",
      "n_max_leaves: 73 Train Accuracy: 0.735 - Test Accuracy: 0.179\n",
      "n_max_leaves: 74 Train Accuracy: 0.737 - Test Accuracy: 0.179\n",
      "n_max_leaves: 75 Train Accuracy: 0.738 - Test Accuracy: 0.184\n",
      "n_max_leaves: 76 Train Accuracy: 0.739 - Test Accuracy: 0.183\n",
      "n_max_leaves: 77 Train Accuracy: 0.741 - Test Accuracy: 0.184\n",
      "n_max_leaves: 78 Train Accuracy: 0.743 - Test Accuracy: 0.183\n",
      "n_max_leaves: 79 Train Accuracy: 0.745 - Test Accuracy: 0.184\n",
      "n_max_leaves: 80 Train Accuracy: 0.746 - Test Accuracy: 0.184\n",
      "n_max_leaves: 81 Train Accuracy: 0.746 - Test Accuracy: 0.183\n",
      "n_max_leaves: 82 Train Accuracy: 0.749 - Test Accuracy: 0.183\n",
      "n_max_leaves: 83 Train Accuracy: 0.751 - Test Accuracy: 0.183\n",
      "n_max_leaves: 84 Train Accuracy: 0.752 - Test Accuracy: 0.183\n",
      "n_max_leaves: 85 Train Accuracy: 0.752 - Test Accuracy: 0.183\n",
      "n_max_leaves: 86 Train Accuracy: 0.754 - Test Accuracy: 0.186\n",
      "n_max_leaves: 87 Train Accuracy: 0.756 - Test Accuracy: 0.188\n",
      "n_max_leaves: 88 Train Accuracy: 0.757 - Test Accuracy: 0.184\n",
      "n_max_leaves: 89 Train Accuracy: 0.760 - Test Accuracy: 0.184\n",
      "n_max_leaves: 90 Train Accuracy: 0.761 - Test Accuracy: 0.184\n",
      "n_max_leaves: 91 Train Accuracy: 0.763 - Test Accuracy: 0.184\n",
      "n_max_leaves: 92 Train Accuracy: 0.766 - Test Accuracy: 0.184\n",
      "n_max_leaves: 93 Train Accuracy: 0.766 - Test Accuracy: 0.184\n",
      "n_max_leaves: 94 Train Accuracy: 0.768 - Test Accuracy: 0.183\n",
      "n_max_leaves: 95 Train Accuracy: 0.769 - Test Accuracy: 0.188\n",
      "n_max_leaves: 96 Train Accuracy: 0.770 - Test Accuracy: 0.186\n",
      "n_max_leaves: 97 Train Accuracy: 0.772 - Test Accuracy: 0.188\n",
      "n_max_leaves: 98 Train Accuracy: 0.774 - Test Accuracy: 0.193\n",
      "n_max_leaves: 99 Train Accuracy: 0.774 - Test Accuracy: 0.191\n"
     ]
    }
   ],
   "source": [
    "for max_leaves in range(2,100):\n",
    "    # train and predict\n",
    "    dt2 = DecisionTreeClassifier(max_leaf_nodes=max_leaves)\n",
    "    dt2.fit(X_train,Y_train_binned2)\n",
    "\n",
    "    # compute Accuracy\n",
    "    train_acc = accuracy_score(y_true = Y_train_binned2, y_pred = dt2.predict(X_train))\n",
    "    test_acc  = accuracy_score(y_true = Y_test_binned2,  y_pred = dt2.predict(X_test))\n",
    "    print (\"n_max_leaves: {:d} Train Accuracy: {:.3f} - Test Accuracy: {:.3f}\".format(max_leaves, train_acc,test_acc))"
   ],
   "metadata": {
    "collapsed": false
   }
  },
  {
   "cell_type": "markdown",
   "source": [
    "Si noti che, eseguendo il modello con la divisione dei prezzi in intervalli discretizzati con la strategia \"kmeans\", la migliore coppia di performance si ottiene quando l'iper-parametro max_leaf_nodes è pari a 99, in particolare si ha Train accuracy = 0.774 e Test Accuracy = 0.191\n",
    "\n",
    "In conclusione possiamo dire che le suddette performance non sono soddisfacenti e pertanto proseguiamo lo studio del dataset ai fini di prevedere il prezzo delle proprietà immobiliari in esso contenuto."
   ],
   "metadata": {
    "collapsed": false
   }
  }
 ],
 "metadata": {
  "kernelspec": {
   "display_name": "Python 3",
   "language": "python",
   "name": "python3"
  },
  "language_info": {
   "codemirror_mode": {
    "name": "ipython",
    "version": 2
   },
   "file_extension": ".py",
   "mimetype": "text/x-python",
   "name": "python",
   "nbconvert_exporter": "python",
   "pygments_lexer": "ipython2",
   "version": "2.7.6"
  }
 },
 "nbformat": 4,
 "nbformat_minor": 0
}
