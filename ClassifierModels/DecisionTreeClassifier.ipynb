{
 "cells": [
  {
   "cell_type": "code",
   "execution_count": 1,
   "outputs": [],
   "source": [
    "import numpy as np\n",
    "import matplotlib.pyplot as plt\n",
    "from sklearn.metrics import accuracy_score\n",
    "from sklearn.datasets import make_blobs\n",
    "import pandas as pd\n",
    "from sklearn.tree import DecisionTreeClassifier\n",
    "from sklearn.tree import plot_tree\n",
    "from sklearn.preprocessing import KBinsDiscretizer\n",
    "\n",
    "X_train = pd.read_csv('../data/X_train.csv')\n",
    "X_test = pd.read_csv(\"../data/X_test.csv\")\n",
    "Y_train = pd.read_csv(\"../data/Y_train.csv\")\n",
    "Y_test = pd.read_csv(\"../data/Y_test.csv\")"
   ],
   "metadata": {
    "collapsed": false
   }
  },
  {
   "cell_type": "markdown",
   "source": [
    "# Decision Tree Classifier"
   ],
   "metadata": {
    "collapsed": false
   }
  },
  {
   "cell_type": "markdown",
   "source": [
    "Let's try two different approaches to the encoding of the labels derived from the rang of prices Y:\n",
    "<ol> <li> enc1 </li><li> enc2 </li></ol>"
   ],
   "metadata": {
    "collapsed": false
   }
  },
  {
   "cell_type": "code",
   "execution_count": 2,
   "outputs": [],
   "source": [
    "enc1 = KBinsDiscretizer(n_bins=20, encode=\"ordinal\", strategy=\"quantile\")\n",
    "Y_train_binned1 = enc1.fit_transform(Y_train)\n",
    "Y_test_binned1 = enc1.fit_transform(Y_test)\n",
    "\n",
    "Y_train_binned1 = Y_train_binned1.ravel()\n",
    "Y_test_binned1 = Y_test_binned1.ravel()\n",
    "\n",
    "######\n",
    "\n",
    "enc2 = KBinsDiscretizer(n_bins=10, encode=\"ordinal\", strategy=\"kmeans\")\n",
    "Y_train_binned2 = enc2.fit_transform(Y_train)\n",
    "Y_test_binned2 = enc2.fit_transform(Y_test)"
   ],
   "metadata": {
    "collapsed": false
   }
  },
  {
   "cell_type": "markdown",
   "source": [
    "Now we try to apply a DecisionTreeClassifier model to our datasets"
   ],
   "metadata": {
    "collapsed": false
   }
  },
  {
   "cell_type": "code",
   "execution_count": 3,
   "outputs": [
    {
     "name": "stdout",
     "output_type": "stream",
     "text": [
      "n_max_leaves: 2.000 Train Accuracy: 0.102 - Test Accuracy: 0.101\n",
      "n_max_leaves: 3.000 Train Accuracy: 0.135 - Test Accuracy: 0.118\n",
      "n_max_leaves: 4.000 Train Accuracy: 0.166 - Test Accuracy: 0.142\n",
      "n_max_leaves: 5.000 Train Accuracy: 0.191 - Test Accuracy: 0.157\n",
      "n_max_leaves: 6.000 Train Accuracy: 0.200 - Test Accuracy: 0.164\n",
      "n_max_leaves: 7.000 Train Accuracy: 0.215 - Test Accuracy: 0.172\n",
      "n_max_leaves: 8.000 Train Accuracy: 0.229 - Test Accuracy: 0.183\n",
      "n_max_leaves: 9.000 Train Accuracy: 0.232 - Test Accuracy: 0.184\n",
      "n_max_leaves: 10.000 Train Accuracy: 0.235 - Test Accuracy: 0.186\n",
      "n_max_leaves: 11.000 Train Accuracy: 0.241 - Test Accuracy: 0.189\n",
      "n_max_leaves: 12.000 Train Accuracy: 0.245 - Test Accuracy: 0.195\n",
      "n_max_leaves: 13.000 Train Accuracy: 0.251 - Test Accuracy: 0.188\n",
      "n_max_leaves: 14.000 Train Accuracy: 0.257 - Test Accuracy: 0.186\n",
      "n_max_leaves: 15.000 Train Accuracy: 0.262 - Test Accuracy: 0.184\n",
      "n_max_leaves: 16.000 Train Accuracy: 0.267 - Test Accuracy: 0.188\n",
      "n_max_leaves: 17.000 Train Accuracy: 0.273 - Test Accuracy: 0.198\n",
      "n_max_leaves: 18.000 Train Accuracy: 0.275 - Test Accuracy: 0.198\n",
      "n_max_leaves: 19.000 Train Accuracy: 0.278 - Test Accuracy: 0.200\n",
      "n_max_leaves: 20.000 Train Accuracy: 0.281 - Test Accuracy: 0.201\n",
      "n_max_leaves: 21.000 Train Accuracy: 0.286 - Test Accuracy: 0.206\n",
      "n_max_leaves: 22.000 Train Accuracy: 0.289 - Test Accuracy: 0.205\n",
      "n_max_leaves: 23.000 Train Accuracy: 0.293 - Test Accuracy: 0.203\n",
      "n_max_leaves: 24.000 Train Accuracy: 0.296 - Test Accuracy: 0.203\n",
      "n_max_leaves: 25.000 Train Accuracy: 0.299 - Test Accuracy: 0.203\n",
      "n_max_leaves: 26.000 Train Accuracy: 0.302 - Test Accuracy: 0.200\n",
      "n_max_leaves: 27.000 Train Accuracy: 0.306 - Test Accuracy: 0.200\n",
      "n_max_leaves: 28.000 Train Accuracy: 0.306 - Test Accuracy: 0.200\n",
      "n_max_leaves: 29.000 Train Accuracy: 0.309 - Test Accuracy: 0.200\n",
      "n_max_leaves: 30.000 Train Accuracy: 0.314 - Test Accuracy: 0.203\n",
      "n_max_leaves: 31.000 Train Accuracy: 0.317 - Test Accuracy: 0.203\n",
      "n_max_leaves: 32.000 Train Accuracy: 0.318 - Test Accuracy: 0.205\n",
      "n_max_leaves: 33.000 Train Accuracy: 0.321 - Test Accuracy: 0.206\n",
      "n_max_leaves: 34.000 Train Accuracy: 0.323 - Test Accuracy: 0.203\n",
      "n_max_leaves: 35.000 Train Accuracy: 0.325 - Test Accuracy: 0.203\n",
      "n_max_leaves: 36.000 Train Accuracy: 0.325 - Test Accuracy: 0.210\n",
      "n_max_leaves: 37.000 Train Accuracy: 0.327 - Test Accuracy: 0.210\n",
      "n_max_leaves: 38.000 Train Accuracy: 0.329 - Test Accuracy: 0.213\n",
      "n_max_leaves: 39.000 Train Accuracy: 0.331 - Test Accuracy: 0.213\n",
      "n_max_leaves: 40.000 Train Accuracy: 0.333 - Test Accuracy: 0.215\n",
      "n_max_leaves: 41.000 Train Accuracy: 0.334 - Test Accuracy: 0.215\n",
      "n_max_leaves: 42.000 Train Accuracy: 0.336 - Test Accuracy: 0.215\n",
      "n_max_leaves: 43.000 Train Accuracy: 0.337 - Test Accuracy: 0.213\n",
      "n_max_leaves: 44.000 Train Accuracy: 0.340 - Test Accuracy: 0.217\n",
      "n_max_leaves: 45.000 Train Accuracy: 0.341 - Test Accuracy: 0.215\n",
      "n_max_leaves: 46.000 Train Accuracy: 0.343 - Test Accuracy: 0.215\n",
      "n_max_leaves: 47.000 Train Accuracy: 0.345 - Test Accuracy: 0.220\n",
      "n_max_leaves: 48.000 Train Accuracy: 0.349 - Test Accuracy: 0.218\n",
      "n_max_leaves: 49.000 Train Accuracy: 0.351 - Test Accuracy: 0.215\n",
      "n_max_leaves: 50.000 Train Accuracy: 0.352 - Test Accuracy: 0.220\n",
      "n_max_leaves: 51.000 Train Accuracy: 0.353 - Test Accuracy: 0.220\n",
      "n_max_leaves: 52.000 Train Accuracy: 0.356 - Test Accuracy: 0.218\n",
      "n_max_leaves: 53.000 Train Accuracy: 0.360 - Test Accuracy: 0.218\n",
      "n_max_leaves: 54.000 Train Accuracy: 0.362 - Test Accuracy: 0.218\n",
      "n_max_leaves: 55.000 Train Accuracy: 0.363 - Test Accuracy: 0.220\n",
      "n_max_leaves: 56.000 Train Accuracy: 0.366 - Test Accuracy: 0.224\n",
      "n_max_leaves: 57.000 Train Accuracy: 0.369 - Test Accuracy: 0.224\n",
      "n_max_leaves: 58.000 Train Accuracy: 0.370 - Test Accuracy: 0.224\n",
      "n_max_leaves: 59.000 Train Accuracy: 0.372 - Test Accuracy: 0.224\n",
      "n_max_leaves: 60.000 Train Accuracy: 0.375 - Test Accuracy: 0.222\n",
      "n_max_leaves: 61.000 Train Accuracy: 0.376 - Test Accuracy: 0.222\n",
      "n_max_leaves: 62.000 Train Accuracy: 0.377 - Test Accuracy: 0.220\n",
      "n_max_leaves: 63.000 Train Accuracy: 0.378 - Test Accuracy: 0.222\n",
      "n_max_leaves: 64.000 Train Accuracy: 0.381 - Test Accuracy: 0.224\n",
      "n_max_leaves: 65.000 Train Accuracy: 0.384 - Test Accuracy: 0.224\n",
      "n_max_leaves: 66.000 Train Accuracy: 0.388 - Test Accuracy: 0.224\n",
      "n_max_leaves: 67.000 Train Accuracy: 0.389 - Test Accuracy: 0.229\n",
      "n_max_leaves: 68.000 Train Accuracy: 0.392 - Test Accuracy: 0.232\n",
      "n_max_leaves: 69.000 Train Accuracy: 0.394 - Test Accuracy: 0.232\n",
      "n_max_leaves: 70.000 Train Accuracy: 0.395 - Test Accuracy: 0.229\n",
      "n_max_leaves: 71.000 Train Accuracy: 0.397 - Test Accuracy: 0.227\n",
      "n_max_leaves: 72.000 Train Accuracy: 0.398 - Test Accuracy: 0.225\n",
      "n_max_leaves: 73.000 Train Accuracy: 0.401 - Test Accuracy: 0.225\n",
      "n_max_leaves: 74.000 Train Accuracy: 0.402 - Test Accuracy: 0.224\n",
      "n_max_leaves: 75.000 Train Accuracy: 0.404 - Test Accuracy: 0.227\n",
      "n_max_leaves: 76.000 Train Accuracy: 0.406 - Test Accuracy: 0.225\n",
      "n_max_leaves: 77.000 Train Accuracy: 0.407 - Test Accuracy: 0.227\n",
      "n_max_leaves: 78.000 Train Accuracy: 0.408 - Test Accuracy: 0.225\n",
      "n_max_leaves: 79.000 Train Accuracy: 0.410 - Test Accuracy: 0.232\n",
      "n_max_leaves: 80.000 Train Accuracy: 0.410 - Test Accuracy: 0.230\n",
      "n_max_leaves: 81.000 Train Accuracy: 0.410 - Test Accuracy: 0.230\n",
      "n_max_leaves: 82.000 Train Accuracy: 0.412 - Test Accuracy: 0.234\n",
      "n_max_leaves: 83.000 Train Accuracy: 0.416 - Test Accuracy: 0.234\n",
      "n_max_leaves: 84.000 Train Accuracy: 0.418 - Test Accuracy: 0.224\n",
      "n_max_leaves: 85.000 Train Accuracy: 0.420 - Test Accuracy: 0.227\n",
      "n_max_leaves: 86.000 Train Accuracy: 0.421 - Test Accuracy: 0.227\n",
      "n_max_leaves: 87.000 Train Accuracy: 0.422 - Test Accuracy: 0.227\n",
      "n_max_leaves: 88.000 Train Accuracy: 0.423 - Test Accuracy: 0.224\n",
      "n_max_leaves: 89.000 Train Accuracy: 0.424 - Test Accuracy: 0.222\n",
      "n_max_leaves: 90.000 Train Accuracy: 0.425 - Test Accuracy: 0.224\n",
      "n_max_leaves: 91.000 Train Accuracy: 0.427 - Test Accuracy: 0.222\n",
      "n_max_leaves: 92.000 Train Accuracy: 0.428 - Test Accuracy: 0.222\n",
      "n_max_leaves: 93.000 Train Accuracy: 0.430 - Test Accuracy: 0.213\n",
      "n_max_leaves: 94.000 Train Accuracy: 0.432 - Test Accuracy: 0.212\n",
      "n_max_leaves: 95.000 Train Accuracy: 0.434 - Test Accuracy: 0.208\n",
      "n_max_leaves: 96.000 Train Accuracy: 0.436 - Test Accuracy: 0.208\n",
      "n_max_leaves: 97.000 Train Accuracy: 0.436 - Test Accuracy: 0.208\n",
      "n_max_leaves: 98.000 Train Accuracy: 0.437 - Test Accuracy: 0.210\n",
      "n_max_leaves: 99.000 Train Accuracy: 0.439 - Test Accuracy: 0.206\n"
     ]
    }
   ],
   "source": [
    "for max_leaves in range(2,100):\n",
    "    # train and predict\n",
    "    dt1 = DecisionTreeClassifier(max_leaf_nodes=max_leaves)\n",
    "    dt1.fit(X_train,Y_train_binned1)\n",
    "\n",
    "    #f_names = list(X_train.columns.values)\n",
    "    #c_names = [\"Class 0\",\"Class 1\", \"Class 2\", \"Class 3\", \"Class 4\", \"Class 5\", \"Class 6\"]\n",
    "    #fig, ax = plt.subplots(figsize=(20,10))\n",
    "\n",
    "    # compute Accuracy\n",
    "    train_acc = accuracy_score(y_true = Y_train_binned1, y_pred = dt1.predict(X_train))\n",
    "    test_acc  = accuracy_score(y_true = Y_test_binned1,  y_pred = dt1.predict(X_test))\n",
    "    print (\"n_max_leaves: {:.3f} Train Accuracy: {:.3f} - Test Accuracy: {:.3f}\".format(max_leaves, train_acc,test_acc))\n",
    "\n"
   ],
   "metadata": {
    "collapsed": false
   }
  },
  {
   "cell_type": "code",
   "execution_count": 4,
   "outputs": [
    {
     "name": "stdout",
     "output_type": "stream",
     "text": [
      "n_max_leaves: 2.000 Train Accuracy: 0.383 - Test Accuracy: 0.406\n",
      "n_max_leaves: 3.000 Train Accuracy: 0.419 - Test Accuracy: 0.432\n",
      "n_max_leaves: 4.000 Train Accuracy: 0.466 - Test Accuracy: 0.468\n",
      "n_max_leaves: 5.000 Train Accuracy: 0.506 - Test Accuracy: 0.468\n",
      "n_max_leaves: 6.000 Train Accuracy: 0.534 - Test Accuracy: 0.510\n",
      "n_max_leaves: 7.000 Train Accuracy: 0.548 - Test Accuracy: 0.527\n",
      "n_max_leaves: 8.000 Train Accuracy: 0.570 - Test Accuracy: 0.544\n",
      "n_max_leaves: 9.000 Train Accuracy: 0.585 - Test Accuracy: 0.565\n",
      "n_max_leaves: 10.000 Train Accuracy: 0.585 - Test Accuracy: 0.538\n",
      "n_max_leaves: 11.000 Train Accuracy: 0.596 - Test Accuracy: 0.543\n",
      "n_max_leaves: 12.000 Train Accuracy: 0.596 - Test Accuracy: 0.543\n",
      "n_max_leaves: 13.000 Train Accuracy: 0.600 - Test Accuracy: 0.549\n",
      "n_max_leaves: 14.000 Train Accuracy: 0.600 - Test Accuracy: 0.549\n",
      "n_max_leaves: 15.000 Train Accuracy: 0.606 - Test Accuracy: 0.558\n",
      "n_max_leaves: 16.000 Train Accuracy: 0.608 - Test Accuracy: 0.570\n",
      "n_max_leaves: 17.000 Train Accuracy: 0.613 - Test Accuracy: 0.577\n",
      "n_max_leaves: 18.000 Train Accuracy: 0.616 - Test Accuracy: 0.585\n",
      "n_max_leaves: 19.000 Train Accuracy: 0.622 - Test Accuracy: 0.585\n",
      "n_max_leaves: 20.000 Train Accuracy: 0.627 - Test Accuracy: 0.592\n",
      "n_max_leaves: 21.000 Train Accuracy: 0.628 - Test Accuracy: 0.592\n",
      "n_max_leaves: 22.000 Train Accuracy: 0.628 - Test Accuracy: 0.592\n",
      "n_max_leaves: 23.000 Train Accuracy: 0.640 - Test Accuracy: 0.616\n",
      "n_max_leaves: 24.000 Train Accuracy: 0.646 - Test Accuracy: 0.619\n",
      "n_max_leaves: 25.000 Train Accuracy: 0.650 - Test Accuracy: 0.626\n",
      "n_max_leaves: 26.000 Train Accuracy: 0.654 - Test Accuracy: 0.619\n",
      "n_max_leaves: 27.000 Train Accuracy: 0.654 - Test Accuracy: 0.619\n",
      "n_max_leaves: 28.000 Train Accuracy: 0.657 - Test Accuracy: 0.621\n",
      "n_max_leaves: 29.000 Train Accuracy: 0.660 - Test Accuracy: 0.614\n",
      "n_max_leaves: 30.000 Train Accuracy: 0.663 - Test Accuracy: 0.606\n",
      "n_max_leaves: 31.000 Train Accuracy: 0.663 - Test Accuracy: 0.606\n",
      "n_max_leaves: 32.000 Train Accuracy: 0.666 - Test Accuracy: 0.604\n",
      "n_max_leaves: 33.000 Train Accuracy: 0.668 - Test Accuracy: 0.606\n",
      "n_max_leaves: 34.000 Train Accuracy: 0.672 - Test Accuracy: 0.608\n",
      "n_max_leaves: 35.000 Train Accuracy: 0.674 - Test Accuracy: 0.606\n",
      "n_max_leaves: 36.000 Train Accuracy: 0.674 - Test Accuracy: 0.606\n",
      "n_max_leaves: 37.000 Train Accuracy: 0.681 - Test Accuracy: 0.592\n",
      "n_max_leaves: 38.000 Train Accuracy: 0.684 - Test Accuracy: 0.594\n",
      "n_max_leaves: 39.000 Train Accuracy: 0.686 - Test Accuracy: 0.590\n",
      "n_max_leaves: 40.000 Train Accuracy: 0.686 - Test Accuracy: 0.590\n",
      "n_max_leaves: 41.000 Train Accuracy: 0.689 - Test Accuracy: 0.590\n",
      "n_max_leaves: 42.000 Train Accuracy: 0.692 - Test Accuracy: 0.590\n",
      "n_max_leaves: 43.000 Train Accuracy: 0.694 - Test Accuracy: 0.587\n",
      "n_max_leaves: 44.000 Train Accuracy: 0.695 - Test Accuracy: 0.585\n",
      "n_max_leaves: 45.000 Train Accuracy: 0.696 - Test Accuracy: 0.584\n",
      "n_max_leaves: 46.000 Train Accuracy: 0.698 - Test Accuracy: 0.582\n",
      "n_max_leaves: 47.000 Train Accuracy: 0.700 - Test Accuracy: 0.589\n",
      "n_max_leaves: 48.000 Train Accuracy: 0.702 - Test Accuracy: 0.590\n",
      "n_max_leaves: 49.000 Train Accuracy: 0.705 - Test Accuracy: 0.592\n",
      "n_max_leaves: 50.000 Train Accuracy: 0.708 - Test Accuracy: 0.594\n",
      "n_max_leaves: 51.000 Train Accuracy: 0.709 - Test Accuracy: 0.589\n",
      "n_max_leaves: 52.000 Train Accuracy: 0.710 - Test Accuracy: 0.590\n",
      "n_max_leaves: 53.000 Train Accuracy: 0.713 - Test Accuracy: 0.589\n",
      "n_max_leaves: 54.000 Train Accuracy: 0.718 - Test Accuracy: 0.580\n",
      "n_max_leaves: 55.000 Train Accuracy: 0.722 - Test Accuracy: 0.582\n",
      "n_max_leaves: 56.000 Train Accuracy: 0.723 - Test Accuracy: 0.584\n",
      "n_max_leaves: 57.000 Train Accuracy: 0.724 - Test Accuracy: 0.580\n",
      "n_max_leaves: 58.000 Train Accuracy: 0.727 - Test Accuracy: 0.580\n",
      "n_max_leaves: 59.000 Train Accuracy: 0.730 - Test Accuracy: 0.582\n",
      "n_max_leaves: 60.000 Train Accuracy: 0.730 - Test Accuracy: 0.582\n",
      "n_max_leaves: 61.000 Train Accuracy: 0.732 - Test Accuracy: 0.582\n",
      "n_max_leaves: 62.000 Train Accuracy: 0.733 - Test Accuracy: 0.578\n",
      "n_max_leaves: 63.000 Train Accuracy: 0.735 - Test Accuracy: 0.575\n",
      "n_max_leaves: 64.000 Train Accuracy: 0.736 - Test Accuracy: 0.575\n",
      "n_max_leaves: 65.000 Train Accuracy: 0.739 - Test Accuracy: 0.573\n",
      "n_max_leaves: 66.000 Train Accuracy: 0.741 - Test Accuracy: 0.577\n",
      "n_max_leaves: 67.000 Train Accuracy: 0.742 - Test Accuracy: 0.577\n",
      "n_max_leaves: 68.000 Train Accuracy: 0.744 - Test Accuracy: 0.578\n",
      "n_max_leaves: 69.000 Train Accuracy: 0.747 - Test Accuracy: 0.577\n",
      "n_max_leaves: 70.000 Train Accuracy: 0.747 - Test Accuracy: 0.580\n",
      "n_max_leaves: 71.000 Train Accuracy: 0.750 - Test Accuracy: 0.584\n",
      "n_max_leaves: 72.000 Train Accuracy: 0.751 - Test Accuracy: 0.582\n",
      "n_max_leaves: 73.000 Train Accuracy: 0.753 - Test Accuracy: 0.585\n",
      "n_max_leaves: 74.000 Train Accuracy: 0.754 - Test Accuracy: 0.584\n",
      "n_max_leaves: 75.000 Train Accuracy: 0.756 - Test Accuracy: 0.585\n",
      "n_max_leaves: 76.000 Train Accuracy: 0.758 - Test Accuracy: 0.590\n",
      "n_max_leaves: 77.000 Train Accuracy: 0.760 - Test Accuracy: 0.582\n",
      "n_max_leaves: 78.000 Train Accuracy: 0.762 - Test Accuracy: 0.585\n",
      "n_max_leaves: 79.000 Train Accuracy: 0.762 - Test Accuracy: 0.582\n",
      "n_max_leaves: 80.000 Train Accuracy: 0.762 - Test Accuracy: 0.584\n",
      "n_max_leaves: 81.000 Train Accuracy: 0.764 - Test Accuracy: 0.584\n",
      "n_max_leaves: 82.000 Train Accuracy: 0.765 - Test Accuracy: 0.587\n",
      "n_max_leaves: 83.000 Train Accuracy: 0.767 - Test Accuracy: 0.589\n",
      "n_max_leaves: 84.000 Train Accuracy: 0.770 - Test Accuracy: 0.590\n",
      "n_max_leaves: 85.000 Train Accuracy: 0.773 - Test Accuracy: 0.585\n",
      "n_max_leaves: 86.000 Train Accuracy: 0.774 - Test Accuracy: 0.584\n",
      "n_max_leaves: 87.000 Train Accuracy: 0.775 - Test Accuracy: 0.577\n",
      "n_max_leaves: 88.000 Train Accuracy: 0.777 - Test Accuracy: 0.582\n",
      "n_max_leaves: 89.000 Train Accuracy: 0.778 - Test Accuracy: 0.568\n",
      "n_max_leaves: 90.000 Train Accuracy: 0.780 - Test Accuracy: 0.573\n",
      "n_max_leaves: 91.000 Train Accuracy: 0.781 - Test Accuracy: 0.575\n",
      "n_max_leaves: 92.000 Train Accuracy: 0.782 - Test Accuracy: 0.575\n",
      "n_max_leaves: 93.000 Train Accuracy: 0.783 - Test Accuracy: 0.572\n",
      "n_max_leaves: 94.000 Train Accuracy: 0.782 - Test Accuracy: 0.570\n",
      "n_max_leaves: 95.000 Train Accuracy: 0.784 - Test Accuracy: 0.575\n",
      "n_max_leaves: 96.000 Train Accuracy: 0.784 - Test Accuracy: 0.575\n",
      "n_max_leaves: 97.000 Train Accuracy: 0.784 - Test Accuracy: 0.575\n",
      "n_max_leaves: 98.000 Train Accuracy: 0.785 - Test Accuracy: 0.573\n",
      "n_max_leaves: 99.000 Train Accuracy: 0.786 - Test Accuracy: 0.577\n"
     ]
    }
   ],
   "source": [
    "for max_leaves in range(2,100):\n",
    "    # train and predict\n",
    "    dt2 = DecisionTreeClassifier(max_leaf_nodes=max_leaves)\n",
    "    dt2.fit(X_train,Y_train_binned2)\n",
    "\n",
    "    # compute Accuracy\n",
    "    train_acc = accuracy_score(y_true = Y_train_binned2, y_pred = dt2.predict(X_train))\n",
    "    test_acc  = accuracy_score(y_true = Y_test_binned2,  y_pred = dt2.predict(X_test))\n",
    "    print (\"n_max_leaves: {:.3f} Train Accuracy: {:.3f} - Test Accuracy: {:.3f}\".format(max_leaves, train_acc,test_acc))\n",
    "\n"
   ],
   "metadata": {
    "collapsed": false
   }
  },
  {
   "cell_type": "code",
   "execution_count": 5,
   "outputs": [
    {
     "ename": "InvalidIndexError",
     "evalue": "(slice(None, None, None), 0)",
     "output_type": "error",
     "traceback": [
      "\u001B[1;31m---------------------------------------------------------------------------\u001B[0m",
      "\u001B[1;31mTypeError\u001B[0m                                 Traceback (most recent call last)",
      "File \u001B[1;32m~\\py_venvs\\progetto_DWM_venv\\lib\\site-packages\\pandas\\core\\indexes\\base.py:3803\u001B[0m, in \u001B[0;36mIndex.get_loc\u001B[1;34m(self, key, method, tolerance)\u001B[0m\n\u001B[0;32m   3802\u001B[0m \u001B[38;5;28;01mtry\u001B[39;00m:\n\u001B[1;32m-> 3803\u001B[0m     \u001B[38;5;28;01mreturn\u001B[39;00m \u001B[38;5;28;43mself\u001B[39;49m\u001B[38;5;241;43m.\u001B[39;49m\u001B[43m_engine\u001B[49m\u001B[38;5;241;43m.\u001B[39;49m\u001B[43mget_loc\u001B[49m\u001B[43m(\u001B[49m\u001B[43mcasted_key\u001B[49m\u001B[43m)\u001B[49m\n\u001B[0;32m   3804\u001B[0m \u001B[38;5;28;01mexcept\u001B[39;00m \u001B[38;5;167;01mKeyError\u001B[39;00m \u001B[38;5;28;01mas\u001B[39;00m err:\n",
      "File \u001B[1;32m~\\py_venvs\\progetto_DWM_venv\\lib\\site-packages\\pandas\\_libs\\index.pyx:138\u001B[0m, in \u001B[0;36mpandas._libs.index.IndexEngine.get_loc\u001B[1;34m()\u001B[0m\n",
      "File \u001B[1;32m~\\py_venvs\\progetto_DWM_venv\\lib\\site-packages\\pandas\\_libs\\index.pyx:144\u001B[0m, in \u001B[0;36mpandas._libs.index.IndexEngine.get_loc\u001B[1;34m()\u001B[0m\n",
      "\u001B[1;31mTypeError\u001B[0m: '(slice(None, None, None), 0)' is an invalid key",
      "\nDuring handling of the above exception, another exception occurred:\n",
      "\u001B[1;31mInvalidIndexError\u001B[0m                         Traceback (most recent call last)",
      "Cell \u001B[1;32mIn [5], line 16\u001B[0m\n\u001B[0;32m     13\u001B[0m     plt\u001B[38;5;241m.\u001B[39mscatter(zz[:,\u001B[38;5;241m0\u001B[39m], zz[:,\u001B[38;5;241m1\u001B[39m], c\u001B[38;5;241m=\u001B[39mz_labels, marker\u001B[38;5;241m=\u001B[39m\u001B[38;5;124m'\u001B[39m\u001B[38;5;124m+\u001B[39m\u001B[38;5;124m'\u001B[39m, alpha\u001B[38;5;241m=\u001B[39m\u001B[38;5;241m0.3\u001B[39m)\n\u001B[0;32m     14\u001B[0m     plt\u001B[38;5;241m.\u001B[39mscatter(X[:,\u001B[38;5;241m0\u001B[39m], X[:,\u001B[38;5;241m1\u001B[39m], c\u001B[38;5;241m=\u001B[39my, alpha\u001B[38;5;241m=\u001B[39m\u001B[38;5;241m0.6\u001B[39m)\n\u001B[1;32m---> 16\u001B[0m \u001B[43mmodel_decision_boundary\u001B[49m\u001B[43m(\u001B[49m\u001B[43mdt1\u001B[49m\u001B[43m,\u001B[49m\u001B[43m \u001B[49m\u001B[43mX_train\u001B[49m\u001B[43m,\u001B[49m\u001B[43m \u001B[49m\u001B[43mY_train\u001B[49m\u001B[43m)\u001B[49m\n\u001B[0;32m     17\u001B[0m model_decision_boundary(dt2, X_train, Y_train)\n",
      "Cell \u001B[1;32mIn [5], line 5\u001B[0m, in \u001B[0;36mmodel_decision_boundary\u001B[1;34m(model, X, y)\u001B[0m\n\u001B[0;32m      4\u001B[0m \u001B[38;5;28;01mdef\u001B[39;00m \u001B[38;5;21mmodel_decision_boundary\u001B[39m(model, X, y):\n\u001B[1;32m----> 5\u001B[0m     x_min, x_max \u001B[38;5;241m=\u001B[39m \u001B[43mX\u001B[49m\u001B[43m[\u001B[49m\u001B[43m:\u001B[49m\u001B[43m,\u001B[49m\u001B[43m \u001B[49m\u001B[38;5;241;43m0\u001B[39;49m\u001B[43m]\u001B[49m\u001B[38;5;241m.\u001B[39mmin() \u001B[38;5;241m-\u001B[39m \u001B[38;5;241m.1\u001B[39m, X[:, \u001B[38;5;241m0\u001B[39m]\u001B[38;5;241m.\u001B[39mmax() \u001B[38;5;241m+\u001B[39m \u001B[38;5;241m.1\u001B[39m\n\u001B[0;32m      6\u001B[0m     y_min, y_max \u001B[38;5;241m=\u001B[39m X[:, \u001B[38;5;241m1\u001B[39m]\u001B[38;5;241m.\u001B[39mmin() \u001B[38;5;241m-\u001B[39m \u001B[38;5;241m.1\u001B[39m, X[:, \u001B[38;5;241m1\u001B[39m]\u001B[38;5;241m.\u001B[39mmax() \u001B[38;5;241m+\u001B[39m \u001B[38;5;241m.1\u001B[39m\n\u001B[0;32m      7\u001B[0m     zz \u001B[38;5;241m=\u001B[39m [ [xx,yy] \u001B[38;5;28;01mfor\u001B[39;00m xx \u001B[38;5;129;01min\u001B[39;00m np\u001B[38;5;241m.\u001B[39mlinspace(x_min, x_max, \u001B[38;5;241m40\u001B[39m)\n\u001B[0;32m      8\u001B[0m            \u001B[38;5;28;01mfor\u001B[39;00m yy \u001B[38;5;129;01min\u001B[39;00m np\u001B[38;5;241m.\u001B[39mlinspace(y_min, y_max, \u001B[38;5;241m40\u001B[39m) ]\n",
      "File \u001B[1;32m~\\py_venvs\\progetto_DWM_venv\\lib\\site-packages\\pandas\\core\\frame.py:3804\u001B[0m, in \u001B[0;36mDataFrame.__getitem__\u001B[1;34m(self, key)\u001B[0m\n\u001B[0;32m   3802\u001B[0m \u001B[38;5;28;01mif\u001B[39;00m \u001B[38;5;28mself\u001B[39m\u001B[38;5;241m.\u001B[39mcolumns\u001B[38;5;241m.\u001B[39mnlevels \u001B[38;5;241m>\u001B[39m \u001B[38;5;241m1\u001B[39m:\n\u001B[0;32m   3803\u001B[0m     \u001B[38;5;28;01mreturn\u001B[39;00m \u001B[38;5;28mself\u001B[39m\u001B[38;5;241m.\u001B[39m_getitem_multilevel(key)\n\u001B[1;32m-> 3804\u001B[0m indexer \u001B[38;5;241m=\u001B[39m \u001B[38;5;28;43mself\u001B[39;49m\u001B[38;5;241;43m.\u001B[39;49m\u001B[43mcolumns\u001B[49m\u001B[38;5;241;43m.\u001B[39;49m\u001B[43mget_loc\u001B[49m\u001B[43m(\u001B[49m\u001B[43mkey\u001B[49m\u001B[43m)\u001B[49m\n\u001B[0;32m   3805\u001B[0m \u001B[38;5;28;01mif\u001B[39;00m is_integer(indexer):\n\u001B[0;32m   3806\u001B[0m     indexer \u001B[38;5;241m=\u001B[39m [indexer]\n",
      "File \u001B[1;32m~\\py_venvs\\progetto_DWM_venv\\lib\\site-packages\\pandas\\core\\indexes\\base.py:3810\u001B[0m, in \u001B[0;36mIndex.get_loc\u001B[1;34m(self, key, method, tolerance)\u001B[0m\n\u001B[0;32m   3805\u001B[0m         \u001B[38;5;28;01mraise\u001B[39;00m \u001B[38;5;167;01mKeyError\u001B[39;00m(key) \u001B[38;5;28;01mfrom\u001B[39;00m \u001B[38;5;21;01merr\u001B[39;00m\n\u001B[0;32m   3806\u001B[0m     \u001B[38;5;28;01mexcept\u001B[39;00m \u001B[38;5;167;01mTypeError\u001B[39;00m:\n\u001B[0;32m   3807\u001B[0m         \u001B[38;5;66;03m# If we have a listlike key, _check_indexing_error will raise\u001B[39;00m\n\u001B[0;32m   3808\u001B[0m         \u001B[38;5;66;03m#  InvalidIndexError. Otherwise we fall through and re-raise\u001B[39;00m\n\u001B[0;32m   3809\u001B[0m         \u001B[38;5;66;03m#  the TypeError.\u001B[39;00m\n\u001B[1;32m-> 3810\u001B[0m         \u001B[38;5;28;43mself\u001B[39;49m\u001B[38;5;241;43m.\u001B[39;49m\u001B[43m_check_indexing_error\u001B[49m\u001B[43m(\u001B[49m\u001B[43mkey\u001B[49m\u001B[43m)\u001B[49m\n\u001B[0;32m   3811\u001B[0m         \u001B[38;5;28;01mraise\u001B[39;00m\n\u001B[0;32m   3813\u001B[0m \u001B[38;5;66;03m# GH#42269\u001B[39;00m\n",
      "File \u001B[1;32m~\\py_venvs\\progetto_DWM_venv\\lib\\site-packages\\pandas\\core\\indexes\\base.py:5966\u001B[0m, in \u001B[0;36mIndex._check_indexing_error\u001B[1;34m(self, key)\u001B[0m\n\u001B[0;32m   5962\u001B[0m \u001B[38;5;28;01mdef\u001B[39;00m \u001B[38;5;21m_check_indexing_error\u001B[39m(\u001B[38;5;28mself\u001B[39m, key):\n\u001B[0;32m   5963\u001B[0m     \u001B[38;5;28;01mif\u001B[39;00m \u001B[38;5;129;01mnot\u001B[39;00m is_scalar(key):\n\u001B[0;32m   5964\u001B[0m         \u001B[38;5;66;03m# if key is not a scalar, directly raise an error (the code below\u001B[39;00m\n\u001B[0;32m   5965\u001B[0m         \u001B[38;5;66;03m# would convert to numpy arrays and raise later any way) - GH29926\u001B[39;00m\n\u001B[1;32m-> 5966\u001B[0m         \u001B[38;5;28;01mraise\u001B[39;00m InvalidIndexError(key)\n",
      "\u001B[1;31mInvalidIndexError\u001B[0m: (slice(None, None, None), 0)"
     ]
    }
   ],
   "source": [
    "#what is this? Do we need this?\n",
    "\n",
    "def model_decision_boundary(model, X, y):\n",
    "    x_min, x_max = X[:, 0].min() - .1, X[:, 0].max() + .1\n",
    "    y_min, y_max = X[:, 1].min() - .1, X[:, 1].max() + .1\n",
    "    zz = [ [xx,yy] for xx in np.linspace(x_min, x_max, 40)\n",
    "           for yy in np.linspace(y_min, y_max, 40) ]\n",
    "    zz = np.array(zz)\n",
    "    z_labels = model.predict(zz)\n",
    "\n",
    "    plt.figure()\n",
    "    plt.scatter(zz[:,0], zz[:,1], c=z_labels, marker='+', alpha=0.3)\n",
    "    plt.scatter(X[:,0], X[:,1], c=y, alpha=0.6)\n",
    "\n",
    "model_decision_boundary(dt1, X_train, Y_train)\n",
    "model_decision_boundary(dt2, X_train, Y_train)"
   ],
   "metadata": {
    "collapsed": false
   }
  },
  {
   "cell_type": "code",
   "execution_count": null,
   "outputs": [],
   "source": [],
   "metadata": {
    "collapsed": false
   }
  }
 ],
 "metadata": {
  "kernelspec": {
   "display_name": "Python 3",
   "language": "python",
   "name": "python3"
  },
  "language_info": {
   "codemirror_mode": {
    "name": "ipython",
    "version": 2
   },
   "file_extension": ".py",
   "mimetype": "text/x-python",
   "name": "python",
   "nbconvert_exporter": "python",
   "pygments_lexer": "ipython2",
   "version": "2.7.6"
  }
 },
 "nbformat": 4,
 "nbformat_minor": 0
}
