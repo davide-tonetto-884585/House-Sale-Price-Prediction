{
 "cells": [
  {
   "cell_type": "code",
   "execution_count": 3,
   "outputs": [],
   "source": [
    "import numpy as np\n",
    "import matplotlib.pyplot as plt\n",
    "from sklearn.metrics import accuracy_score\n",
    "from sklearn.datasets import make_blobs\n",
    "import pandas as pd\n",
    "from sklearn.tree import DecisionTreeClassifier\n",
    "from sklearn.tree import plot_tree\n",
    "from sklearn.preprocessing import KBinsDiscretizer\n",
    "\n",
    "X_train = pd.read_csv('../data/X_train.csv')\n",
    "X_test = pd.read_csv(\"../data/X_test.csv\")\n",
    "Y_train = pd.read_csv(\"../data/Y_train.csv\")\n",
    "Y_test = pd.read_csv(\"../data/Y_test.csv\")"
   ],
   "metadata": {
    "collapsed": false
   }
  },
  {
   "cell_type": "markdown",
   "source": [
    "# Decision Tree Classifier"
   ],
   "metadata": {
    "collapsed": false
   }
  },
  {
   "cell_type": "markdown",
   "source": [
    "Let's try two different approaches to the encoding of the labels derived from the rang of prices Y:\n",
    "<ol> <li> enc1 </li><li> enc2 </li></ol>"
   ],
   "metadata": {
    "collapsed": false
   }
  },
  {
   "cell_type": "code",
   "execution_count": 4,
   "outputs": [],
   "source": [
    "enc1 = KBinsDiscretizer(n_bins=20, encode=\"ordinal\", strategy=\"quantile\")\n",
    "Y_train_binned1 = enc1.fit_transform(Y_train)\n",
    "Y_test_binned1 = enc1.fit_transform(Y_test)\n",
    "\n",
    "Y_train_binned1 = Y_train_binned1.ravel()\n",
    "Y_test_binned1 = Y_test_binned1.ravel()\n",
    "\n",
    "######\n",
    "\n",
    "enc2 = KBinsDiscretizer(n_bins=10, encode=\"ordinal\", strategy=\"kmeans\")\n",
    "Y_train_binned2 = enc2.fit_transform(Y_train)\n",
    "Y_test_binned2 = enc2.fit_transform(Y_test)"
   ],
   "metadata": {
    "collapsed": false
   }
  },
  {
   "cell_type": "markdown",
   "source": [
    "Now we try to apply a DecisionTreeClassifier model to our datasets"
   ],
   "metadata": {
    "collapsed": false
   }
  },
  {
   "cell_type": "code",
   "execution_count": 5,
   "outputs": [
    {
     "name": "stdout",
     "output_type": "stream",
     "text": [
      "n_max_leaves: 2.000 Train Accuracy: 0.102 - Test Accuracy: 0.094\n",
      "n_max_leaves: 3.000 Train Accuracy: 0.135 - Test Accuracy: 0.140\n",
      "n_max_leaves: 4.000 Train Accuracy: 0.149 - Test Accuracy: 0.145\n",
      "n_max_leaves: 5.000 Train Accuracy: 0.163 - Test Accuracy: 0.150\n",
      "n_max_leaves: 6.000 Train Accuracy: 0.168 - Test Accuracy: 0.157\n",
      "n_max_leaves: 7.000 Train Accuracy: 0.172 - Test Accuracy: 0.157\n",
      "n_max_leaves: 8.000 Train Accuracy: 0.186 - Test Accuracy: 0.179\n",
      "n_max_leaves: 9.000 Train Accuracy: 0.197 - Test Accuracy: 0.183\n",
      "n_max_leaves: 10.000 Train Accuracy: 0.210 - Test Accuracy: 0.200\n",
      "n_max_leaves: 11.000 Train Accuracy: 0.217 - Test Accuracy: 0.201\n",
      "n_max_leaves: 12.000 Train Accuracy: 0.226 - Test Accuracy: 0.206\n",
      "n_max_leaves: 13.000 Train Accuracy: 0.232 - Test Accuracy: 0.210\n",
      "n_max_leaves: 14.000 Train Accuracy: 0.243 - Test Accuracy: 0.206\n",
      "n_max_leaves: 15.000 Train Accuracy: 0.247 - Test Accuracy: 0.203\n",
      "n_max_leaves: 16.000 Train Accuracy: 0.251 - Test Accuracy: 0.201\n",
      "n_max_leaves: 17.000 Train Accuracy: 0.251 - Test Accuracy: 0.201\n",
      "n_max_leaves: 18.000 Train Accuracy: 0.259 - Test Accuracy: 0.213\n",
      "n_max_leaves: 19.000 Train Accuracy: 0.260 - Test Accuracy: 0.208\n",
      "n_max_leaves: 20.000 Train Accuracy: 0.264 - Test Accuracy: 0.200\n",
      "n_max_leaves: 21.000 Train Accuracy: 0.268 - Test Accuracy: 0.195\n",
      "n_max_leaves: 22.000 Train Accuracy: 0.271 - Test Accuracy: 0.195\n",
      "n_max_leaves: 23.000 Train Accuracy: 0.276 - Test Accuracy: 0.200\n",
      "n_max_leaves: 24.000 Train Accuracy: 0.280 - Test Accuracy: 0.205\n",
      "n_max_leaves: 25.000 Train Accuracy: 0.283 - Test Accuracy: 0.203\n",
      "n_max_leaves: 26.000 Train Accuracy: 0.287 - Test Accuracy: 0.203\n",
      "n_max_leaves: 27.000 Train Accuracy: 0.291 - Test Accuracy: 0.208\n",
      "n_max_leaves: 28.000 Train Accuracy: 0.294 - Test Accuracy: 0.213\n",
      "n_max_leaves: 29.000 Train Accuracy: 0.296 - Test Accuracy: 0.215\n",
      "n_max_leaves: 30.000 Train Accuracy: 0.297 - Test Accuracy: 0.213\n",
      "n_max_leaves: 31.000 Train Accuracy: 0.298 - Test Accuracy: 0.213\n",
      "n_max_leaves: 32.000 Train Accuracy: 0.301 - Test Accuracy: 0.217\n",
      "n_max_leaves: 33.000 Train Accuracy: 0.303 - Test Accuracy: 0.215\n",
      "n_max_leaves: 34.000 Train Accuracy: 0.303 - Test Accuracy: 0.215\n",
      "n_max_leaves: 35.000 Train Accuracy: 0.304 - Test Accuracy: 0.217\n",
      "n_max_leaves: 36.000 Train Accuracy: 0.308 - Test Accuracy: 0.220\n",
      "n_max_leaves: 37.000 Train Accuracy: 0.309 - Test Accuracy: 0.218\n",
      "n_max_leaves: 38.000 Train Accuracy: 0.313 - Test Accuracy: 0.220\n",
      "n_max_leaves: 39.000 Train Accuracy: 0.314 - Test Accuracy: 0.220\n",
      "n_max_leaves: 40.000 Train Accuracy: 0.317 - Test Accuracy: 0.215\n",
      "n_max_leaves: 41.000 Train Accuracy: 0.319 - Test Accuracy: 0.217\n",
      "n_max_leaves: 42.000 Train Accuracy: 0.321 - Test Accuracy: 0.217\n",
      "n_max_leaves: 43.000 Train Accuracy: 0.322 - Test Accuracy: 0.220\n",
      "n_max_leaves: 44.000 Train Accuracy: 0.326 - Test Accuracy: 0.220\n",
      "n_max_leaves: 45.000 Train Accuracy: 0.327 - Test Accuracy: 0.222\n",
      "n_max_leaves: 46.000 Train Accuracy: 0.328 - Test Accuracy: 0.224\n",
      "n_max_leaves: 47.000 Train Accuracy: 0.331 - Test Accuracy: 0.225\n",
      "n_max_leaves: 48.000 Train Accuracy: 0.332 - Test Accuracy: 0.220\n",
      "n_max_leaves: 49.000 Train Accuracy: 0.335 - Test Accuracy: 0.222\n",
      "n_max_leaves: 50.000 Train Accuracy: 0.336 - Test Accuracy: 0.222\n",
      "n_max_leaves: 51.000 Train Accuracy: 0.337 - Test Accuracy: 0.224\n",
      "n_max_leaves: 52.000 Train Accuracy: 0.339 - Test Accuracy: 0.222\n",
      "n_max_leaves: 53.000 Train Accuracy: 0.342 - Test Accuracy: 0.220\n",
      "n_max_leaves: 54.000 Train Accuracy: 0.343 - Test Accuracy: 0.220\n",
      "n_max_leaves: 55.000 Train Accuracy: 0.345 - Test Accuracy: 0.220\n",
      "n_max_leaves: 56.000 Train Accuracy: 0.347 - Test Accuracy: 0.217\n",
      "n_max_leaves: 57.000 Train Accuracy: 0.348 - Test Accuracy: 0.217\n",
      "n_max_leaves: 58.000 Train Accuracy: 0.350 - Test Accuracy: 0.217\n",
      "n_max_leaves: 59.000 Train Accuracy: 0.351 - Test Accuracy: 0.218\n",
      "n_max_leaves: 60.000 Train Accuracy: 0.354 - Test Accuracy: 0.218\n",
      "n_max_leaves: 61.000 Train Accuracy: 0.355 - Test Accuracy: 0.217\n",
      "n_max_leaves: 62.000 Train Accuracy: 0.357 - Test Accuracy: 0.217\n",
      "n_max_leaves: 63.000 Train Accuracy: 0.358 - Test Accuracy: 0.217\n",
      "n_max_leaves: 64.000 Train Accuracy: 0.361 - Test Accuracy: 0.218\n",
      "n_max_leaves: 65.000 Train Accuracy: 0.362 - Test Accuracy: 0.218\n",
      "n_max_leaves: 66.000 Train Accuracy: 0.363 - Test Accuracy: 0.217\n",
      "n_max_leaves: 67.000 Train Accuracy: 0.364 - Test Accuracy: 0.215\n",
      "n_max_leaves: 68.000 Train Accuracy: 0.366 - Test Accuracy: 0.218\n",
      "n_max_leaves: 69.000 Train Accuracy: 0.368 - Test Accuracy: 0.218\n",
      "n_max_leaves: 70.000 Train Accuracy: 0.370 - Test Accuracy: 0.222\n",
      "n_max_leaves: 71.000 Train Accuracy: 0.370 - Test Accuracy: 0.222\n",
      "n_max_leaves: 72.000 Train Accuracy: 0.371 - Test Accuracy: 0.220\n",
      "n_max_leaves: 73.000 Train Accuracy: 0.374 - Test Accuracy: 0.220\n",
      "n_max_leaves: 74.000 Train Accuracy: 0.375 - Test Accuracy: 0.222\n",
      "n_max_leaves: 75.000 Train Accuracy: 0.376 - Test Accuracy: 0.220\n",
      "n_max_leaves: 76.000 Train Accuracy: 0.379 - Test Accuracy: 0.225\n",
      "n_max_leaves: 77.000 Train Accuracy: 0.380 - Test Accuracy: 0.227\n",
      "n_max_leaves: 78.000 Train Accuracy: 0.380 - Test Accuracy: 0.227\n",
      "n_max_leaves: 79.000 Train Accuracy: 0.381 - Test Accuracy: 0.227\n",
      "n_max_leaves: 80.000 Train Accuracy: 0.382 - Test Accuracy: 0.227\n",
      "n_max_leaves: 81.000 Train Accuracy: 0.385 - Test Accuracy: 0.222\n",
      "n_max_leaves: 82.000 Train Accuracy: 0.388 - Test Accuracy: 0.220\n",
      "n_max_leaves: 83.000 Train Accuracy: 0.389 - Test Accuracy: 0.218\n",
      "n_max_leaves: 84.000 Train Accuracy: 0.390 - Test Accuracy: 0.220\n",
      "n_max_leaves: 85.000 Train Accuracy: 0.392 - Test Accuracy: 0.222\n",
      "n_max_leaves: 86.000 Train Accuracy: 0.392 - Test Accuracy: 0.222\n",
      "n_max_leaves: 87.000 Train Accuracy: 0.394 - Test Accuracy: 0.218\n",
      "n_max_leaves: 88.000 Train Accuracy: 0.395 - Test Accuracy: 0.218\n",
      "n_max_leaves: 89.000 Train Accuracy: 0.396 - Test Accuracy: 0.220\n",
      "n_max_leaves: 90.000 Train Accuracy: 0.398 - Test Accuracy: 0.222\n",
      "n_max_leaves: 91.000 Train Accuracy: 0.398 - Test Accuracy: 0.222\n",
      "n_max_leaves: 92.000 Train Accuracy: 0.399 - Test Accuracy: 0.220\n",
      "n_max_leaves: 93.000 Train Accuracy: 0.401 - Test Accuracy: 0.222\n",
      "n_max_leaves: 94.000 Train Accuracy: 0.403 - Test Accuracy: 0.218\n",
      "n_max_leaves: 95.000 Train Accuracy: 0.404 - Test Accuracy: 0.220\n",
      "n_max_leaves: 96.000 Train Accuracy: 0.408 - Test Accuracy: 0.218\n",
      "n_max_leaves: 97.000 Train Accuracy: 0.409 - Test Accuracy: 0.218\n",
      "n_max_leaves: 98.000 Train Accuracy: 0.410 - Test Accuracy: 0.220\n",
      "n_max_leaves: 99.000 Train Accuracy: 0.413 - Test Accuracy: 0.217\n"
     ]
    }
   ],
   "source": [
    "for max_leaves in range(2,100):\n",
    "    # train and predict\n",
    "    dt1 = DecisionTreeClassifier(max_leaf_nodes=max_leaves)\n",
    "    dt1.fit(X_train,Y_train_binned1)\n",
    "\n",
    "    #f_names = list(X_train.columns.values)\n",
    "    #c_names = [\"Class 0\",\"Class 1\", \"Class 2\", \"Class 3\", \"Class 4\", \"Class 5\", \"Class 6\"]\n",
    "    #fig, ax = plt.subplots(figsize=(20,10))\n",
    "\n",
    "    # compute Accuracy\n",
    "    train_acc = accuracy_score(y_true = Y_train_binned1, y_pred = dt1.predict(X_train))\n",
    "    test_acc  = accuracy_score(y_true = Y_test_binned1,  y_pred = dt1.predict(X_test))\n",
    "    print (\"n_max_leaves: {:.3f} Train Accuracy: {:.3f} - Test Accuracy: {:.3f}\".format(max_leaves, train_acc,test_acc))\n",
    "\n"
   ],
   "metadata": {
    "collapsed": false
   }
  },
  {
   "cell_type": "code",
   "execution_count": 6,
   "outputs": [
    {
     "name": "stdout",
     "output_type": "stream",
     "text": [
      "n_max_leaves: 2.000 Train Accuracy: 0.430 - Test Accuracy: 0.432\n",
      "n_max_leaves: 3.000 Train Accuracy: 0.449 - Test Accuracy: 0.451\n",
      "n_max_leaves: 4.000 Train Accuracy: 0.488 - Test Accuracy: 0.457\n",
      "n_max_leaves: 5.000 Train Accuracy: 0.520 - Test Accuracy: 0.478\n",
      "n_max_leaves: 6.000 Train Accuracy: 0.538 - Test Accuracy: 0.509\n",
      "n_max_leaves: 7.000 Train Accuracy: 0.538 - Test Accuracy: 0.510\n",
      "n_max_leaves: 8.000 Train Accuracy: 0.546 - Test Accuracy: 0.502\n",
      "n_max_leaves: 9.000 Train Accuracy: 0.553 - Test Accuracy: 0.517\n",
      "n_max_leaves: 10.000 Train Accuracy: 0.576 - Test Accuracy: 0.539\n",
      "n_max_leaves: 11.000 Train Accuracy: 0.576 - Test Accuracy: 0.539\n",
      "n_max_leaves: 12.000 Train Accuracy: 0.588 - Test Accuracy: 0.541\n",
      "n_max_leaves: 13.000 Train Accuracy: 0.605 - Test Accuracy: 0.538\n",
      "n_max_leaves: 14.000 Train Accuracy: 0.613 - Test Accuracy: 0.544\n",
      "n_max_leaves: 15.000 Train Accuracy: 0.622 - Test Accuracy: 0.558\n",
      "n_max_leaves: 16.000 Train Accuracy: 0.624 - Test Accuracy: 0.556\n",
      "n_max_leaves: 17.000 Train Accuracy: 0.635 - Test Accuracy: 0.556\n",
      "n_max_leaves: 18.000 Train Accuracy: 0.640 - Test Accuracy: 0.555\n",
      "n_max_leaves: 19.000 Train Accuracy: 0.645 - Test Accuracy: 0.553\n",
      "n_max_leaves: 20.000 Train Accuracy: 0.648 - Test Accuracy: 0.558\n",
      "n_max_leaves: 21.000 Train Accuracy: 0.651 - Test Accuracy: 0.560\n",
      "n_max_leaves: 22.000 Train Accuracy: 0.658 - Test Accuracy: 0.570\n",
      "n_max_leaves: 23.000 Train Accuracy: 0.661 - Test Accuracy: 0.572\n",
      "n_max_leaves: 24.000 Train Accuracy: 0.667 - Test Accuracy: 0.570\n",
      "n_max_leaves: 25.000 Train Accuracy: 0.670 - Test Accuracy: 0.570\n",
      "n_max_leaves: 26.000 Train Accuracy: 0.670 - Test Accuracy: 0.568\n",
      "n_max_leaves: 27.000 Train Accuracy: 0.673 - Test Accuracy: 0.567\n",
      "n_max_leaves: 28.000 Train Accuracy: 0.677 - Test Accuracy: 0.570\n",
      "n_max_leaves: 29.000 Train Accuracy: 0.679 - Test Accuracy: 0.573\n",
      "n_max_leaves: 30.000 Train Accuracy: 0.686 - Test Accuracy: 0.572\n",
      "n_max_leaves: 31.000 Train Accuracy: 0.691 - Test Accuracy: 0.575\n",
      "n_max_leaves: 32.000 Train Accuracy: 0.693 - Test Accuracy: 0.577\n",
      "n_max_leaves: 33.000 Train Accuracy: 0.697 - Test Accuracy: 0.573\n",
      "n_max_leaves: 34.000 Train Accuracy: 0.697 - Test Accuracy: 0.573\n",
      "n_max_leaves: 35.000 Train Accuracy: 0.699 - Test Accuracy: 0.568\n",
      "n_max_leaves: 36.000 Train Accuracy: 0.699 - Test Accuracy: 0.568\n",
      "n_max_leaves: 37.000 Train Accuracy: 0.703 - Test Accuracy: 0.568\n",
      "n_max_leaves: 38.000 Train Accuracy: 0.705 - Test Accuracy: 0.568\n",
      "n_max_leaves: 39.000 Train Accuracy: 0.706 - Test Accuracy: 0.567\n",
      "n_max_leaves: 40.000 Train Accuracy: 0.706 - Test Accuracy: 0.567\n",
      "n_max_leaves: 41.000 Train Accuracy: 0.709 - Test Accuracy: 0.567\n",
      "n_max_leaves: 42.000 Train Accuracy: 0.711 - Test Accuracy: 0.570\n",
      "n_max_leaves: 43.000 Train Accuracy: 0.717 - Test Accuracy: 0.570\n",
      "n_max_leaves: 44.000 Train Accuracy: 0.719 - Test Accuracy: 0.570\n",
      "n_max_leaves: 45.000 Train Accuracy: 0.720 - Test Accuracy: 0.568\n",
      "n_max_leaves: 46.000 Train Accuracy: 0.720 - Test Accuracy: 0.568\n",
      "n_max_leaves: 47.000 Train Accuracy: 0.721 - Test Accuracy: 0.584\n",
      "n_max_leaves: 48.000 Train Accuracy: 0.723 - Test Accuracy: 0.584\n",
      "n_max_leaves: 49.000 Train Accuracy: 0.727 - Test Accuracy: 0.573\n",
      "n_max_leaves: 50.000 Train Accuracy: 0.729 - Test Accuracy: 0.575\n",
      "n_max_leaves: 51.000 Train Accuracy: 0.732 - Test Accuracy: 0.577\n",
      "n_max_leaves: 52.000 Train Accuracy: 0.733 - Test Accuracy: 0.578\n",
      "n_max_leaves: 53.000 Train Accuracy: 0.735 - Test Accuracy: 0.582\n",
      "n_max_leaves: 54.000 Train Accuracy: 0.737 - Test Accuracy: 0.584\n",
      "n_max_leaves: 55.000 Train Accuracy: 0.738 - Test Accuracy: 0.587\n",
      "n_max_leaves: 56.000 Train Accuracy: 0.738 - Test Accuracy: 0.587\n",
      "n_max_leaves: 57.000 Train Accuracy: 0.742 - Test Accuracy: 0.589\n",
      "n_max_leaves: 58.000 Train Accuracy: 0.742 - Test Accuracy: 0.589\n",
      "n_max_leaves: 59.000 Train Accuracy: 0.743 - Test Accuracy: 0.587\n",
      "n_max_leaves: 60.000 Train Accuracy: 0.743 - Test Accuracy: 0.587\n",
      "n_max_leaves: 61.000 Train Accuracy: 0.746 - Test Accuracy: 0.589\n",
      "n_max_leaves: 62.000 Train Accuracy: 0.747 - Test Accuracy: 0.584\n",
      "n_max_leaves: 63.000 Train Accuracy: 0.750 - Test Accuracy: 0.585\n",
      "n_max_leaves: 64.000 Train Accuracy: 0.752 - Test Accuracy: 0.587\n",
      "n_max_leaves: 65.000 Train Accuracy: 0.753 - Test Accuracy: 0.589\n",
      "n_max_leaves: 66.000 Train Accuracy: 0.753 - Test Accuracy: 0.589\n",
      "n_max_leaves: 67.000 Train Accuracy: 0.753 - Test Accuracy: 0.585\n",
      "n_max_leaves: 68.000 Train Accuracy: 0.757 - Test Accuracy: 0.589\n",
      "n_max_leaves: 69.000 Train Accuracy: 0.759 - Test Accuracy: 0.587\n",
      "n_max_leaves: 70.000 Train Accuracy: 0.760 - Test Accuracy: 0.587\n",
      "n_max_leaves: 71.000 Train Accuracy: 0.760 - Test Accuracy: 0.587\n",
      "n_max_leaves: 72.000 Train Accuracy: 0.762 - Test Accuracy: 0.589\n",
      "n_max_leaves: 73.000 Train Accuracy: 0.764 - Test Accuracy: 0.590\n",
      "n_max_leaves: 74.000 Train Accuracy: 0.765 - Test Accuracy: 0.589\n",
      "n_max_leaves: 75.000 Train Accuracy: 0.767 - Test Accuracy: 0.590\n",
      "n_max_leaves: 76.000 Train Accuracy: 0.769 - Test Accuracy: 0.590\n",
      "n_max_leaves: 77.000 Train Accuracy: 0.771 - Test Accuracy: 0.589\n",
      "n_max_leaves: 78.000 Train Accuracy: 0.773 - Test Accuracy: 0.592\n",
      "n_max_leaves: 79.000 Train Accuracy: 0.775 - Test Accuracy: 0.589\n",
      "n_max_leaves: 80.000 Train Accuracy: 0.775 - Test Accuracy: 0.584\n",
      "n_max_leaves: 81.000 Train Accuracy: 0.776 - Test Accuracy: 0.582\n",
      "n_max_leaves: 82.000 Train Accuracy: 0.778 - Test Accuracy: 0.582\n",
      "n_max_leaves: 83.000 Train Accuracy: 0.779 - Test Accuracy: 0.582\n",
      "n_max_leaves: 84.000 Train Accuracy: 0.780 - Test Accuracy: 0.585\n",
      "n_max_leaves: 85.000 Train Accuracy: 0.781 - Test Accuracy: 0.585\n",
      "n_max_leaves: 86.000 Train Accuracy: 0.782 - Test Accuracy: 0.584\n",
      "n_max_leaves: 87.000 Train Accuracy: 0.783 - Test Accuracy: 0.589\n",
      "n_max_leaves: 88.000 Train Accuracy: 0.784 - Test Accuracy: 0.589\n",
      "n_max_leaves: 89.000 Train Accuracy: 0.785 - Test Accuracy: 0.589\n",
      "n_max_leaves: 90.000 Train Accuracy: 0.786 - Test Accuracy: 0.589\n",
      "n_max_leaves: 91.000 Train Accuracy: 0.789 - Test Accuracy: 0.590\n",
      "n_max_leaves: 92.000 Train Accuracy: 0.791 - Test Accuracy: 0.594\n",
      "n_max_leaves: 93.000 Train Accuracy: 0.791 - Test Accuracy: 0.587\n",
      "n_max_leaves: 94.000 Train Accuracy: 0.791 - Test Accuracy: 0.589\n",
      "n_max_leaves: 95.000 Train Accuracy: 0.793 - Test Accuracy: 0.587\n",
      "n_max_leaves: 96.000 Train Accuracy: 0.795 - Test Accuracy: 0.590\n",
      "n_max_leaves: 97.000 Train Accuracy: 0.795 - Test Accuracy: 0.590\n",
      "n_max_leaves: 98.000 Train Accuracy: 0.797 - Test Accuracy: 0.590\n",
      "n_max_leaves: 99.000 Train Accuracy: 0.797 - Test Accuracy: 0.589\n"
     ]
    }
   ],
   "source": [
    "for max_leaves in range(2,100):\n",
    "    # train and predict\n",
    "    dt2 = DecisionTreeClassifier(max_leaf_nodes=max_leaves)\n",
    "    dt2.fit(X_train,Y_train_binned2)\n",
    "\n",
    "    # compute Accuracy\n",
    "    train_acc = accuracy_score(y_true = Y_train_binned2, y_pred = dt2.predict(X_train))\n",
    "    test_acc  = accuracy_score(y_true = Y_test_binned2,  y_pred = dt2.predict(X_test))\n",
    "    print (\"n_max_leaves: {:.3f} Train Accuracy: {:.3f} - Test Accuracy: {:.3f}\".format(max_leaves, train_acc,test_acc))\n",
    "\n"
   ],
   "metadata": {
    "collapsed": false
   }
  },
  {
   "cell_type": "code",
   "execution_count": 8,
   "outputs": [
    {
     "ename": "TypeError",
     "evalue": "'(slice(None, None, None), 0)' is an invalid key",
     "output_type": "error",
     "traceback": [
      "\u001B[1;31m---------------------------------------------------------------------------\u001B[0m",
      "\u001B[1;31mTypeError\u001B[0m                                 Traceback (most recent call last)",
      "\u001B[1;32m~\\AppData\\Local\\Temp/ipykernel_4744/1194571507.py\u001B[0m in \u001B[0;36m<module>\u001B[1;34m\u001B[0m\n\u001B[0;32m     14\u001B[0m     \u001B[0mplt\u001B[0m\u001B[1;33m.\u001B[0m\u001B[0mscatter\u001B[0m\u001B[1;33m(\u001B[0m\u001B[0mX\u001B[0m\u001B[1;33m[\u001B[0m\u001B[1;33m:\u001B[0m\u001B[1;33m,\u001B[0m\u001B[1;36m0\u001B[0m\u001B[1;33m]\u001B[0m\u001B[1;33m,\u001B[0m \u001B[0mX\u001B[0m\u001B[1;33m[\u001B[0m\u001B[1;33m:\u001B[0m\u001B[1;33m,\u001B[0m\u001B[1;36m1\u001B[0m\u001B[1;33m]\u001B[0m\u001B[1;33m,\u001B[0m \u001B[0mc\u001B[0m\u001B[1;33m=\u001B[0m\u001B[0my\u001B[0m\u001B[1;33m,\u001B[0m \u001B[0malpha\u001B[0m\u001B[1;33m=\u001B[0m\u001B[1;36m0.6\u001B[0m\u001B[1;33m)\u001B[0m\u001B[1;33m\u001B[0m\u001B[1;33m\u001B[0m\u001B[0m\n\u001B[0;32m     15\u001B[0m \u001B[1;33m\u001B[0m\u001B[0m\n\u001B[1;32m---> 16\u001B[1;33m \u001B[0mmodel_decision_boundary\u001B[0m\u001B[1;33m(\u001B[0m\u001B[0mdt1\u001B[0m\u001B[1;33m,\u001B[0m \u001B[0mX_train\u001B[0m\u001B[1;33m,\u001B[0m \u001B[0mY_train\u001B[0m\u001B[1;33m)\u001B[0m\u001B[1;33m\u001B[0m\u001B[1;33m\u001B[0m\u001B[0m\n\u001B[0m\u001B[0;32m     17\u001B[0m \u001B[0mmodel_decision_boundary\u001B[0m\u001B[1;33m(\u001B[0m\u001B[0mdt2\u001B[0m\u001B[1;33m,\u001B[0m \u001B[0mX_train\u001B[0m\u001B[1;33m,\u001B[0m \u001B[0mY_train\u001B[0m\u001B[1;33m)\u001B[0m\u001B[1;33m\u001B[0m\u001B[1;33m\u001B[0m\u001B[0m\n",
      "\u001B[1;32m~\\AppData\\Local\\Temp/ipykernel_4744/1194571507.py\u001B[0m in \u001B[0;36mmodel_decision_boundary\u001B[1;34m(model, X, y)\u001B[0m\n\u001B[0;32m      3\u001B[0m \u001B[1;33m\u001B[0m\u001B[0m\n\u001B[0;32m      4\u001B[0m \u001B[1;32mdef\u001B[0m \u001B[0mmodel_decision_boundary\u001B[0m\u001B[1;33m(\u001B[0m\u001B[0mmodel\u001B[0m\u001B[1;33m,\u001B[0m \u001B[0mX\u001B[0m\u001B[1;33m,\u001B[0m \u001B[0my\u001B[0m\u001B[1;33m)\u001B[0m\u001B[1;33m:\u001B[0m\u001B[1;33m\u001B[0m\u001B[1;33m\u001B[0m\u001B[0m\n\u001B[1;32m----> 5\u001B[1;33m     \u001B[0mx_min\u001B[0m\u001B[1;33m,\u001B[0m \u001B[0mx_max\u001B[0m \u001B[1;33m=\u001B[0m \u001B[0mX\u001B[0m\u001B[1;33m[\u001B[0m\u001B[1;33m:\u001B[0m\u001B[1;33m,\u001B[0m \u001B[1;36m0\u001B[0m\u001B[1;33m]\u001B[0m\u001B[1;33m.\u001B[0m\u001B[0mmin\u001B[0m\u001B[1;33m(\u001B[0m\u001B[1;33m)\u001B[0m \u001B[1;33m-\u001B[0m \u001B[1;36m.1\u001B[0m\u001B[1;33m,\u001B[0m \u001B[0mX\u001B[0m\u001B[1;33m[\u001B[0m\u001B[1;33m:\u001B[0m\u001B[1;33m,\u001B[0m \u001B[1;36m0\u001B[0m\u001B[1;33m]\u001B[0m\u001B[1;33m.\u001B[0m\u001B[0mmax\u001B[0m\u001B[1;33m(\u001B[0m\u001B[1;33m)\u001B[0m \u001B[1;33m+\u001B[0m \u001B[1;36m.1\u001B[0m\u001B[1;33m\u001B[0m\u001B[1;33m\u001B[0m\u001B[0m\n\u001B[0m\u001B[0;32m      6\u001B[0m     \u001B[0my_min\u001B[0m\u001B[1;33m,\u001B[0m \u001B[0my_max\u001B[0m \u001B[1;33m=\u001B[0m \u001B[0mX\u001B[0m\u001B[1;33m[\u001B[0m\u001B[1;33m:\u001B[0m\u001B[1;33m,\u001B[0m \u001B[1;36m1\u001B[0m\u001B[1;33m]\u001B[0m\u001B[1;33m.\u001B[0m\u001B[0mmin\u001B[0m\u001B[1;33m(\u001B[0m\u001B[1;33m)\u001B[0m \u001B[1;33m-\u001B[0m \u001B[1;36m.1\u001B[0m\u001B[1;33m,\u001B[0m \u001B[0mX\u001B[0m\u001B[1;33m[\u001B[0m\u001B[1;33m:\u001B[0m\u001B[1;33m,\u001B[0m \u001B[1;36m1\u001B[0m\u001B[1;33m]\u001B[0m\u001B[1;33m.\u001B[0m\u001B[0mmax\u001B[0m\u001B[1;33m(\u001B[0m\u001B[1;33m)\u001B[0m \u001B[1;33m+\u001B[0m \u001B[1;36m.1\u001B[0m\u001B[1;33m\u001B[0m\u001B[1;33m\u001B[0m\u001B[0m\n\u001B[0;32m      7\u001B[0m     zz = [ [xx,yy] for xx in np.linspace(x_min, x_max, 40)\n",
      "\u001B[1;32m~\\anaconda3\\lib\\site-packages\\pandas\\core\\frame.py\u001B[0m in \u001B[0;36m__getitem__\u001B[1;34m(self, key)\u001B[0m\n\u001B[0;32m   3456\u001B[0m             \u001B[1;32mif\u001B[0m \u001B[0mself\u001B[0m\u001B[1;33m.\u001B[0m\u001B[0mcolumns\u001B[0m\u001B[1;33m.\u001B[0m\u001B[0mnlevels\u001B[0m \u001B[1;33m>\u001B[0m \u001B[1;36m1\u001B[0m\u001B[1;33m:\u001B[0m\u001B[1;33m\u001B[0m\u001B[1;33m\u001B[0m\u001B[0m\n\u001B[0;32m   3457\u001B[0m                 \u001B[1;32mreturn\u001B[0m \u001B[0mself\u001B[0m\u001B[1;33m.\u001B[0m\u001B[0m_getitem_multilevel\u001B[0m\u001B[1;33m(\u001B[0m\u001B[0mkey\u001B[0m\u001B[1;33m)\u001B[0m\u001B[1;33m\u001B[0m\u001B[1;33m\u001B[0m\u001B[0m\n\u001B[1;32m-> 3458\u001B[1;33m             \u001B[0mindexer\u001B[0m \u001B[1;33m=\u001B[0m \u001B[0mself\u001B[0m\u001B[1;33m.\u001B[0m\u001B[0mcolumns\u001B[0m\u001B[1;33m.\u001B[0m\u001B[0mget_loc\u001B[0m\u001B[1;33m(\u001B[0m\u001B[0mkey\u001B[0m\u001B[1;33m)\u001B[0m\u001B[1;33m\u001B[0m\u001B[1;33m\u001B[0m\u001B[0m\n\u001B[0m\u001B[0;32m   3459\u001B[0m             \u001B[1;32mif\u001B[0m \u001B[0mis_integer\u001B[0m\u001B[1;33m(\u001B[0m\u001B[0mindexer\u001B[0m\u001B[1;33m)\u001B[0m\u001B[1;33m:\u001B[0m\u001B[1;33m\u001B[0m\u001B[1;33m\u001B[0m\u001B[0m\n\u001B[0;32m   3460\u001B[0m                 \u001B[0mindexer\u001B[0m \u001B[1;33m=\u001B[0m \u001B[1;33m[\u001B[0m\u001B[0mindexer\u001B[0m\u001B[1;33m]\u001B[0m\u001B[1;33m\u001B[0m\u001B[1;33m\u001B[0m\u001B[0m\n",
      "\u001B[1;32m~\\anaconda3\\lib\\site-packages\\pandas\\core\\indexes\\base.py\u001B[0m in \u001B[0;36mget_loc\u001B[1;34m(self, key, method, tolerance)\u001B[0m\n\u001B[0;32m   3359\u001B[0m             \u001B[0mcasted_key\u001B[0m \u001B[1;33m=\u001B[0m \u001B[0mself\u001B[0m\u001B[1;33m.\u001B[0m\u001B[0m_maybe_cast_indexer\u001B[0m\u001B[1;33m(\u001B[0m\u001B[0mkey\u001B[0m\u001B[1;33m)\u001B[0m\u001B[1;33m\u001B[0m\u001B[1;33m\u001B[0m\u001B[0m\n\u001B[0;32m   3360\u001B[0m             \u001B[1;32mtry\u001B[0m\u001B[1;33m:\u001B[0m\u001B[1;33m\u001B[0m\u001B[1;33m\u001B[0m\u001B[0m\n\u001B[1;32m-> 3361\u001B[1;33m                 \u001B[1;32mreturn\u001B[0m \u001B[0mself\u001B[0m\u001B[1;33m.\u001B[0m\u001B[0m_engine\u001B[0m\u001B[1;33m.\u001B[0m\u001B[0mget_loc\u001B[0m\u001B[1;33m(\u001B[0m\u001B[0mcasted_key\u001B[0m\u001B[1;33m)\u001B[0m\u001B[1;33m\u001B[0m\u001B[1;33m\u001B[0m\u001B[0m\n\u001B[0m\u001B[0;32m   3362\u001B[0m             \u001B[1;32mexcept\u001B[0m \u001B[0mKeyError\u001B[0m \u001B[1;32mas\u001B[0m \u001B[0merr\u001B[0m\u001B[1;33m:\u001B[0m\u001B[1;33m\u001B[0m\u001B[1;33m\u001B[0m\u001B[0m\n\u001B[0;32m   3363\u001B[0m                 \u001B[1;32mraise\u001B[0m \u001B[0mKeyError\u001B[0m\u001B[1;33m(\u001B[0m\u001B[0mkey\u001B[0m\u001B[1;33m)\u001B[0m \u001B[1;32mfrom\u001B[0m \u001B[0merr\u001B[0m\u001B[1;33m\u001B[0m\u001B[1;33m\u001B[0m\u001B[0m\n",
      "\u001B[1;32m~\\anaconda3\\lib\\site-packages\\pandas\\_libs\\index.pyx\u001B[0m in \u001B[0;36mpandas._libs.index.IndexEngine.get_loc\u001B[1;34m()\u001B[0m\n",
      "\u001B[1;32m~\\anaconda3\\lib\\site-packages\\pandas\\_libs\\index.pyx\u001B[0m in \u001B[0;36mpandas._libs.index.IndexEngine.get_loc\u001B[1;34m()\u001B[0m\n",
      "\u001B[1;31mTypeError\u001B[0m: '(slice(None, None, None), 0)' is an invalid key"
     ]
    }
   ],
   "source": [
    "#what is this? Do we need this?\n",
    "\n",
    "\n",
    "def model_decision_boundary(model, X, y):\n",
    "    x_min, x_max = X[:, 0].min() - .1, X[:, 0].max() + .1\n",
    "    y_min, y_max = X[:, 1].min() - .1, X[:, 1].max() + .1\n",
    "    zz = [ [xx,yy] for xx in np.linspace(x_min, x_max, 40)\n",
    "           for yy in np.linspace(y_min, y_max, 40) ]\n",
    "    zz = np.array(zz)\n",
    "    z_labels = model.predict(zz)\n",
    "\n",
    "    plt.figure()\n",
    "    plt.scatter(zz[:,0], zz[:,1], c=z_labels, marker='+', alpha=0.3)\n",
    "    plt.scatter(X[:,0], X[:,1], c=y, alpha=0.6)\n",
    "\n",
    "model_decision_boundary(dt1, X_train, Y_train)\n",
    "model_decision_boundary(dt2, X_train, Y_train)"
   ],
   "metadata": {
    "collapsed": false
   }
  },
  {
   "cell_type": "code",
   "execution_count": null,
   "outputs": [],
   "source": [],
   "metadata": {
    "collapsed": false
   }
  }
 ],
 "metadata": {
  "kernelspec": {
   "display_name": "Python 3",
   "language": "python",
   "name": "python3"
  },
  "language_info": {
   "codemirror_mode": {
    "name": "ipython",
    "version": 2
   },
   "file_extension": ".py",
   "mimetype": "text/x-python",
   "name": "python",
   "nbconvert_exporter": "python",
   "pygments_lexer": "ipython2",
   "version": "2.7.6"
  }
 },
 "nbformat": 4,
 "nbformat_minor": 0
}
