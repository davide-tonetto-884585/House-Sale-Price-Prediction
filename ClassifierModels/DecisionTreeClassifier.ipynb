{
 "cells": [
  {
   "cell_type": "code",
   "execution_count": null,
   "metadata": {
    "collapsed": true
   },
   "outputs": [],
   "source": []
  },
  {
   "cell_type": "code",
   "execution_count": null,
   "outputs": [],
   "source": [
    "import numpy as np\n",
    "import matplotlib.pyplot as plt\n",
    "from sklearn.metrics import accuracy_score\n",
    "from sklearn.datasets import make_blobs\n",
    "import pandas as pd\n",
    "\n",
    "X_train = pd.read_csv('../data/X_train.csv')\n",
    "X_test = pd.read_csv(\"../data/X_test.csv\")\n",
    "Y_train = pd.read_csv(\"../data/Y_train.csv\")\n",
    "Y_test = pd.read_csv(\"../data/Y_test.csv\")\n",
    "\n",
    "print(X_train)"
   ],
   "metadata": {
    "collapsed": false
   }
  },
  {
   "cell_type": "code",
   "execution_count": null,
   "outputs": [],
   "source": [
    "from sklearn.tree import DecisionTreeClassifier\n",
    "model = DecisionTreeClassifier(max_leaf_nodes=12) #starting value, could be modified\n",
    "model.fit(X_train, Y_train)"
   ],
   "metadata": {
    "collapsed": false
   }
  },
  {
   "cell_type": "code",
   "execution_count": null,
   "outputs": [],
   "source": [
    "from sklearn.tree import plot_tree\n",
    "\n",
    "f_names = list(X_train.columns.values)\n",
    "c_names = [\"Class 0\",\"Class 1\", \"Class 2\", \"Class 3\", \"Class 4\", \"Class 5\", \"Class 6\"]\n",
    "\n",
    "fig, ax = plt.subplots(figsize=(20,10))\n",
    "#plot_tree(model, ax=ax,\n",
    "# feature_names=f_names, class_names=c_names,\n",
    "# filled=True, rounded=True);"
   ],
   "metadata": {
    "collapsed": false
   }
  },
  {
   "cell_type": "code",
   "execution_count": null,
   "outputs": [],
   "source": [
    "train_acc = accuracy_score(y_true = Y_train, y_pred = model.predict(X_train))\n",
    "test_acc  = accuracy_score(y_true = Y_test,  y_pred = model.predict(X_test))\n",
    "print (\"Train Accuracy: {:.3f} - Test Accuracy: {:.3f}\".format(train_acc,test_acc) )"
   ],
   "metadata": {
    "collapsed": false
   }
  },
  {
   "cell_type": "code",
   "execution_count": null,
   "outputs": [],
   "source": [
    "#what is this? Do we need this?\n",
    "\n",
    "\n",
    "def model_decision_boundary(model, X, y):\n",
    "    x_min, x_max = X[:, 0].min() - .1, X[:, 0].max() + .1\n",
    "    y_min, y_max = X[:, 1].min() - .1, X[:, 1].max() + .1\n",
    "    zz = [ [xx,yy] for xx in np.linspace(x_min, x_max, 40)\n",
    "           for yy in np.linspace(y_min, y_max, 40) ]\n",
    "    zz = np.array(zz)\n",
    "    z_labels = model.predict(zz)\n",
    "\n",
    "    plt.figure()\n",
    "    plt.scatter(zz[:,0], zz[:,1], c=z_labels, marker='+', alpha=0.3)\n",
    "    plt.scatter(X[:,0], X[:,1], c=y, alpha=0.6)\n",
    "\n",
    "model_decision_boundary(model, X_train, Y_train)"
   ],
   "metadata": {
    "collapsed": false
   }
  }
 ],
 "metadata": {
  "kernelspec": {
   "display_name": "Python 3",
   "language": "python",
   "name": "python3"
  },
  "language_info": {
   "codemirror_mode": {
    "name": "ipython",
    "version": 2
   },
   "file_extension": ".py",
   "mimetype": "text/x-python",
   "name": "python",
   "nbconvert_exporter": "python",
   "pygments_lexer": "ipython2",
   "version": "2.7.6"
  }
 },
 "nbformat": 4,
 "nbformat_minor": 0
}
