{
 "cells": [
  {
   "cell_type": "markdown",
   "source": [
    "## Import dataset with pandas\n"
   ],
   "metadata": {
    "collapsed": false
   }
  },
  {
   "cell_type": "code",
   "execution_count": null,
   "outputs": [],
   "source": [
    "import pandas\n",
    "import numpy as np\n",
    "from scipy.io import arff\n",
    "\n",
    "dataset = arff.loadarff('ames_housing.arff')\n",
    "data = pandas.DataFrame(dataset[0])\n",
    "data.columns\n",
    "\n",
    "print(data.Sale_Price.min(),data.Sale_Price.max())\n"
   ],
   "metadata": {
    "collapsed": false
   }
  },
  {
   "cell_type": "code",
   "execution_count": null,
   "outputs": [],
   "source": [
    "def refineData(df):\n",
    "    replace_kitch = {\"Kitchen_Qual\":{b'Poor': 0, b'Fair': 1, b'Typical': 2, b'Good': 3, b'Excellent': 4},\"Utilities\":{b'AllPub': 1, b'NoSewr': 2, b'NoSeWa':3}, \"Land_Slope\": {b'Gtl': 1, b'Mod': 2, b'Sev': 3}}\n",
    "    data = df.replace(replace_kitch)\n",
    "    return data\n",
    "\n",
    "data = refineData(data)\n",
    "data.describe()\n",
    "data.head()\n",
    "\n",
    "print(data.Land_Slope.value_counts())"
   ],
   "metadata": {
    "collapsed": false
   }
  },
  {
   "cell_type": "markdown",
   "source": [
    "## Controllo features\n",
    "\n",
    "Andiamo a vedere le caratteristiche di alcune feature."
   ],
   "metadata": {
    "collapsed": false
   }
  },
  {
   "cell_type": "code",
   "execution_count": null,
   "outputs": [],
   "source": [
    "for i in data.loc[:, ~data.columns.isin(data._get_numeric_data())]:\n",
    "    print()\n",
    "    print(data[i].value_counts())\n"
   ],
   "metadata": {
    "collapsed": false
   }
  },
  {
   "cell_type": "code",
   "execution_count": null,
   "outputs": [],
   "source": [
    "for i in data.loc[:, ~data.columns.isin(data._get_numeric_data())]:\n",
    "    if data[i].value_counts()[0] * 100 / len(data[i]) >= 95:\n",
    "        print(i)"
   ],
   "metadata": {
    "collapsed": false
   }
  },
  {
   "cell_type": "code",
   "execution_count": null,
   "outputs": [],
   "source": [
    "import matplotlib.pyplot as plt\n",
    "\n",
    "fig, axs = plt.subplots()\n",
    "\n",
    "axs.plot(data.Misc_Feature, data['Sale_Price'], 'o', alpha=0.1)\n",
    "axs.set_xlabel('Land_Slope')\n",
    "axs.set_ylabel('Sale_Price')\n",
    "\n",
    "data.Misc_Feature.describe()"
   ],
   "metadata": {
    "collapsed": false
   }
  },
  {
   "cell_type": "markdown",
   "source": [
    "La feature \"Street\" non ha una distribuzione uniforme tra le varie classi e non va ha un prezzo interessante rispetto a quello di \"Pave\", quindi non ha un buon valore predittivo.\n",
    "La feature \"Utilities\" non ha una distribuzione uniforme tra le varie classi e non va ha un prezzo interessante rispetto a quello di \"Pave\", quindi non ha un buon valore predittivo.\n",
    "\n",
    "Andiamo momentaneamente ad escludere le feature:\n",
    "Street\n",
    "Utilities\n",
    "Land_Slope\n",
    "Condition_2\n",
    "Roof_Matl\n",
    "Heating\n",
    "Pool_QC\n",
    "Misc_Feature\n",
    "\n",
    "In quanto il 95% delle istanze cadono nello stesso valore della feature"
   ],
   "metadata": {
    "collapsed": false
   }
  },
  {
   "cell_type": "code",
   "execution_count": null,
   "outputs": [],
   "source": [
    "from sklearn.preprocessing import KBinsDiscretizer\n",
    "\n",
    "Y = data['Sale_Price'].to_numpy()\n",
    "Y = Y.reshape(-1,1)\n",
    "\n",
    "enc = KBinsDiscretizer(n_bins=10, encode=\"onehot\")\n",
    "Y_binned = enc.fit_transform(Y)\n",
    "\n",
    "print(Y_binned)\n",
    "\n",
    "\n",
    "\n",
    "fig, axs = plt.subplots()\n",
    "\n",
    "plt.hist(Y_binned.getnnz())\n",
    "\n",
    "#data.describe()\n",
    "\n"
   ],
   "metadata": {
    "collapsed": false
   }
  },
  {
   "cell_type": "markdown",
   "source": [
    "## Plotting"
   ],
   "metadata": {
    "collapsed": false
   }
  },
  {
   "cell_type": "code",
   "execution_count": null,
   "outputs": [],
   "source": [
    "import matplotlib.pyplot as plt\n",
    "\n",
    "fig, axs = plt.subplots()\n",
    "\n",
    "axs.plot(data.Kitchen_Qual, data['Sale_Price'], 'o', alpha=0.2)\n",
    "axs.set_xlabel('Kitchen_Qual')\n",
    "axs.set_ylabel('Sale_Price')\n",
    "#plt.savefig('./plots/books_read.png')\n",
    "\n",
    "fig, axs = plt.subplots()\n",
    "\n",
    "axs.plot(data.Kitchen_AbvGr, data['Sale_Price'], 'o', alpha=0.2)\n",
    "axs.set_xlabel('Kitchen_AbvGr')\n",
    "axs.set_ylabel('Sale_Price')\n",
    "\n",
    "fig, axs = plt.subplots()\n",
    "\n",
    "axs.plot(data.Kitchen_Qual, data['Kitchen_AbvGr'], 'o', alpha=0.2)\n",
    "axs.set_xlabel('Kitchen_AbvGr')\n",
    "axs.set_ylabel('Kitchen_Qual')"
   ],
   "metadata": {
    "collapsed": false
   }
  },
  {
   "cell_type": "code",
   "execution_count": null,
   "outputs": [],
   "source": [
    "import matplotlib.pyplot as plt\n",
    "\n",
    "for index, i in enumerate(data.columns):\n",
    "    fig, axs = plt.subplots()\n",
    "    axs.plot(data[i], data['Sale_Price'], 'o', alpha=0.2)\n",
    "    axs.set_xlabel(i)\n",
    "    axs.set_ylabel('Sale_Price')\n"
   ],
   "metadata": {
    "collapsed": false
   }
  },
  {
   "cell_type": "markdown",
   "source": [
    "# Decision trees\n",
    "> Applicazione dei decision tre al dataset"
   ],
   "metadata": {
    "collapsed": false
   }
  },
  {
   "cell_type": "code",
   "execution_count": null,
   "outputs": [],
   "source": [
    "import pandas\n",
    "from scipy.io import arff\n",
    "from sklearn.tree import DecisionTreeRegressor, plot_tree\n",
    "from sklearn.model_selection import train_test_split\n",
    "from sklearn.metrics import mean_squared_error\n",
    "\n",
    "dataset = arff.loadarff('ames_housing.arff')\n",
    "data = pandas.DataFrame(dataset[0])\n",
    "\n",
    "X = data._get_numeric_data()\n",
    "X = X.loc[:, ~X.columns.isin(\n",
    "    ['Sale_Price', 'Longitude', 'Latitude', 'TotRms_AbvGrd'])]\n",
    "X = X.loc[:, ~X.columns.isin(\n",
    "    [col for col in X if len(X[col].value_counts()) < 13])]\n",
    "\n",
    "y = data['Sale_Price']\n",
    "\n",
    "# split dataset in train set and test set\n",
    "X_train, X_test, y_train, y_test = train_test_split(X, y, test_size=0.33, random_state=42)\n",
    "\n",
    "errors = []\n",
    "\n",
    "for max_leaves in range(5, 600):\n",
    "    # train and predict\n",
    "    dt = DecisionTreeRegressor(max_leaf_nodes=max_leaves)\n",
    "    dt.fit(X_train,y_train)\n",
    "\n",
    "    # compute Accuracy\n",
    "    train_acc = mean_squared_error(y_true=y_train, y_pred=dt.predict(X_train))\n",
    "    test_acc  = mean_squared_error(y_true=y_test,  y_pred=dt.predict(X_test))\n",
    "\n",
    "    errors += [ [max_leaves, train_acc, test_acc] ]\n",
    "\n",
    "errors = np.array(errors)\n",
    "\n",
    "fig, ax = plt.subplots()\n",
    "ax.plot(errors[:, 0], errors[:, 1], \"o-\", label=\"DT Train\", alpha=0.3)\n",
    "ax.plot(errors[:, 0], errors[:, 2], \"o-\", label=\"DT Test\", alpha=0.3)\n",
    "ax.set_ylabel(\"MSE\")\n",
    "ax.set_xlabel(\"Number of Leaves\")\n",
    "ax.grid()\n",
    "ax.legend();"
   ],
   "metadata": {
    "collapsed": false
   }
  },
  {
   "cell_type": "markdown",
   "source": [
    "# Comparazione con regressione lineare"
   ],
   "metadata": {
    "collapsed": false
   }
  },
  {
   "cell_type": "code",
   "execution_count": null,
   "outputs": [],
   "source": [
    "from sklearn.linear_model import LinearRegression\n",
    "\n",
    "reg = LinearRegression()\n",
    "reg.fit(X_train,y_train)\n",
    "\n",
    "reg_train_err = mean_squared_error(y_true=y_train, y_pred=reg.predict(X_train))\n",
    "reg_test_err  = mean_squared_error(y_true=y_test,  y_pred=reg.predict(X_test))\n",
    "\n",
    "fig, ax = plt.subplots()\n",
    "ax.plot(errors[:, 0], errors[:, 1], \"o-\", label=\"DT Train\", alpha=0.3)\n",
    "ax.plot(errors[:, 0], errors[:, 2], \"o-\", label=\"DT Test\", alpha=0.3)\n",
    "\n",
    "ax.axhline(y=reg_train_err, c='red', ls=\"--\", label=\"Reg Train\")\n",
    "ax.axhline(y=reg_test_err, c='green', ls=\"--\", label=\"Reg Test\")\n",
    "\n",
    "ax.set_ylabel(\"MSE\")\n",
    "ax.grid()\n",
    "ax.legend();"
   ],
   "metadata": {
    "collapsed": false
   }
  },
  {
   "cell_type": "markdown",
   "source": [
    "# Comparazione con KNeighborsRegressor"
   ],
   "metadata": {
    "collapsed": false
   }
  },
  {
   "cell_type": "code",
   "execution_count": null,
   "outputs": [],
   "source": [
    "from sklearn.neighbors import KNeighborsRegressor\n",
    "\n",
    "errors_knn = []\n",
    "for k in range(5, 300):\n",
    "    kNN = KNeighborsRegressor(n_neighbors=k)\n",
    "    kNN.fit(X_train, y_train)\n",
    "\n",
    "    knn_train_err = mean_squared_error(\n",
    "        y_true=y_train, y_pred=kNN.predict(X_train))\n",
    "    knn_test_err = mean_squared_error(\n",
    "        y_true=y_test,  y_pred=kNN.predict(X_test))\n",
    "\n",
    "    errors_knn += [ [k, knn_train_err, knn_test_err] ]\n",
    "\n",
    "errors_knn = np.array(errors_knn)\n",
    "\n",
    "fig, ax = plt.subplots()\n",
    "ax.plot(errors[:, 0], errors[:, 1], \"o-\", label=\"DT Train\", alpha=0.3)\n",
    "ax.plot(errors[:, 0], errors[:, 2], \"o-\", label=\"DT Test\", alpha=0.3)\n",
    "\n",
    "ax.axhline(y=reg_train_err, c='red', ls=\"--\", label=\"Reg Train\")\n",
    "ax.axhline(y=reg_test_err, c='green', ls=\"--\", label=\"Reg Test\")\n",
    "\n",
    "ax.plot(errors_knn[:, 0], errors_knn[:, 1], c='blue', ls=\"dotted\", label=\"kNN Train\")\n",
    "ax.plot(errors_knn[:, 0], errors_knn[:, 2], c='purple', ls=\"dotted\", label=\"kNN Test\")\n",
    "\n",
    "ax.set_ylabel(\"MSE\")\n",
    "ax.grid()\n",
    "ax.legend()"
   ],
   "metadata": {
    "collapsed": false
   }
  }
 ],
 "metadata": {
  "kernelspec": {
   "display_name": "Python 3.10.2 ('venv': venv)",
   "language": "python",
   "name": "python3"
  },
  "language_info": {
   "codemirror_mode": {
    "name": "ipython",
    "version": 3
   },
   "file_extension": ".py",
   "mimetype": "text/x-python",
   "name": "python",
   "nbconvert_exporter": "python",
   "pygments_lexer": "ipython3",
   "version": "3.10.2"
  },
  "orig_nbformat": 4,
  "vscode": {
   "interpreter": {
    "hash": "d460efd264ff62df614fe5694a8fea1e449ebfb9aef69183f8d7e073c90af14e"
   }
  }
 },
 "nbformat": 4,
 "nbformat_minor": 2
}
