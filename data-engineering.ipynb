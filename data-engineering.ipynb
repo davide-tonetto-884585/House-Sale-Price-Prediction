{
 "cells": [
  {
   "cell_type": "code",
   "execution_count": 23,
   "metadata": {
    "collapsed": true
   },
   "outputs": [
    {
     "name": "stdout",
     "output_type": "stream",
     "text": [
      "Number of rows in the data: 2930\n",
      "Number of columns in the data: 81\n"
     ]
    }
   ],
   "source": [
    "# utility\n",
    "import pandas as pd\n",
    "import numpy as np\n",
    "from scipy.io import arff\n",
    "import seaborn as sns\n",
    "\n",
    "dataset = arff.loadarff('ames_housing.arff')\n",
    "data = pd.DataFrame(dataset[0])\n",
    "\n",
    "print(\"Number of rows in the data:\", data.shape[0])\n",
    "print(\"Number of columns in the data:\", data.shape[1])\n",
    "original_data = data.copy() # Keep a copy our original data"
   ]
  },
  {
   "cell_type": "markdown",
   "source": [
    "## One hot encoding\n",
    "We are going to OneHotEncode the discrete variable"
   ],
   "metadata": {
    "collapsed": false
   }
  },
  {
   "cell_type": "code",
   "execution_count": 29,
   "outputs": [
    {
     "name": "stderr",
     "output_type": "stream",
     "text": [
      "C:\\Users\\ricca\\AppData\\Local\\Temp\\ipykernel_18872\\1703775790.py:1: DeprecationWarning: `np.object` is a deprecated alias for the builtin `object`. To silence this warning, use `object` by itself. Doing this will not modify any behavior and is safe. \n",
      "Deprecated in NumPy 1.20; for more details and guidance: https://numpy.org/devdocs/release/1.20.0-notes.html#deprecations\n",
      "  one_hot_encode_cols = data.dtypes[data.dtypes == np.object]\n"
     ]
    },
    {
     "data": {
      "text/plain": "   Lot_Frontage  Lot_Area  Year_Built  Year_Remod_Add  Mas_Vnr_Area  \\\n0         141.0   31770.0      1960.0          1960.0         112.0   \n1          80.0   11622.0      1961.0          1961.0           0.0   \n2          81.0   14267.0      1958.0          1958.0         108.0   \n3          93.0   11160.0      1968.0          1968.0           0.0   \n4          74.0   13830.0      1997.0          1998.0           0.0   \n\n   BsmtFin_SF_1  BsmtFin_SF_2  Bsmt_Unf_SF  Total_Bsmt_SF  First_Flr_SF  ...  \\\n0           2.0           0.0        441.0         1080.0        1656.0  ...   \n1           6.0         144.0        270.0          882.0         896.0  ...   \n2           1.0           0.0        406.0         1329.0        1329.0  ...   \n3           1.0           0.0       1045.0         2110.0        2110.0  ...   \n4           3.0           0.0        137.0          928.0         928.0  ...   \n\n   Sale_Type_b'ConLw'  Sale_Type_b'New'  Sale_Type_b'Oth'  Sale_Type_b'VWD'  \\\n0                   0                 0                 0                 0   \n1                   0                 0                 0                 0   \n2                   0                 0                 0                 0   \n3                   0                 0                 0                 0   \n4                   0                 0                 0                 0   \n\n   Sale_Type_b'WD '  Sale_Condition_b'AdjLand'  Sale_Condition_b'Alloca'  \\\n0                 1                          0                         0   \n1                 1                          0                         0   \n2                 1                          0                         0   \n3                 1                          0                         0   \n4                 1                          0                         0   \n\n   Sale_Condition_b'Family'  Sale_Condition_b'Normal'  \\\n0                         0                         1   \n1                         0                         1   \n2                         0                         1   \n3                         0                         1   \n4                         0                         1   \n\n   Sale_Condition_b'Partial'  \n0                          0  \n1                          0  \n2                          0  \n3                          0  \n4                          0  \n\n[5 rows x 307 columns]",
      "text/html": "<div>\n<style scoped>\n    .dataframe tbody tr th:only-of-type {\n        vertical-align: middle;\n    }\n\n    .dataframe tbody tr th {\n        vertical-align: top;\n    }\n\n    .dataframe thead th {\n        text-align: right;\n    }\n</style>\n<table border=\"1\" class=\"dataframe\">\n  <thead>\n    <tr style=\"text-align: right;\">\n      <th></th>\n      <th>Lot_Frontage</th>\n      <th>Lot_Area</th>\n      <th>Year_Built</th>\n      <th>Year_Remod_Add</th>\n      <th>Mas_Vnr_Area</th>\n      <th>BsmtFin_SF_1</th>\n      <th>BsmtFin_SF_2</th>\n      <th>Bsmt_Unf_SF</th>\n      <th>Total_Bsmt_SF</th>\n      <th>First_Flr_SF</th>\n      <th>...</th>\n      <th>Sale_Type_b'ConLw'</th>\n      <th>Sale_Type_b'New'</th>\n      <th>Sale_Type_b'Oth'</th>\n      <th>Sale_Type_b'VWD'</th>\n      <th>Sale_Type_b'WD '</th>\n      <th>Sale_Condition_b'AdjLand'</th>\n      <th>Sale_Condition_b'Alloca'</th>\n      <th>Sale_Condition_b'Family'</th>\n      <th>Sale_Condition_b'Normal'</th>\n      <th>Sale_Condition_b'Partial'</th>\n    </tr>\n  </thead>\n  <tbody>\n    <tr>\n      <th>0</th>\n      <td>141.0</td>\n      <td>31770.0</td>\n      <td>1960.0</td>\n      <td>1960.0</td>\n      <td>112.0</td>\n      <td>2.0</td>\n      <td>0.0</td>\n      <td>441.0</td>\n      <td>1080.0</td>\n      <td>1656.0</td>\n      <td>...</td>\n      <td>0</td>\n      <td>0</td>\n      <td>0</td>\n      <td>0</td>\n      <td>1</td>\n      <td>0</td>\n      <td>0</td>\n      <td>0</td>\n      <td>1</td>\n      <td>0</td>\n    </tr>\n    <tr>\n      <th>1</th>\n      <td>80.0</td>\n      <td>11622.0</td>\n      <td>1961.0</td>\n      <td>1961.0</td>\n      <td>0.0</td>\n      <td>6.0</td>\n      <td>144.0</td>\n      <td>270.0</td>\n      <td>882.0</td>\n      <td>896.0</td>\n      <td>...</td>\n      <td>0</td>\n      <td>0</td>\n      <td>0</td>\n      <td>0</td>\n      <td>1</td>\n      <td>0</td>\n      <td>0</td>\n      <td>0</td>\n      <td>1</td>\n      <td>0</td>\n    </tr>\n    <tr>\n      <th>2</th>\n      <td>81.0</td>\n      <td>14267.0</td>\n      <td>1958.0</td>\n      <td>1958.0</td>\n      <td>108.0</td>\n      <td>1.0</td>\n      <td>0.0</td>\n      <td>406.0</td>\n      <td>1329.0</td>\n      <td>1329.0</td>\n      <td>...</td>\n      <td>0</td>\n      <td>0</td>\n      <td>0</td>\n      <td>0</td>\n      <td>1</td>\n      <td>0</td>\n      <td>0</td>\n      <td>0</td>\n      <td>1</td>\n      <td>0</td>\n    </tr>\n    <tr>\n      <th>3</th>\n      <td>93.0</td>\n      <td>11160.0</td>\n      <td>1968.0</td>\n      <td>1968.0</td>\n      <td>0.0</td>\n      <td>1.0</td>\n      <td>0.0</td>\n      <td>1045.0</td>\n      <td>2110.0</td>\n      <td>2110.0</td>\n      <td>...</td>\n      <td>0</td>\n      <td>0</td>\n      <td>0</td>\n      <td>0</td>\n      <td>1</td>\n      <td>0</td>\n      <td>0</td>\n      <td>0</td>\n      <td>1</td>\n      <td>0</td>\n    </tr>\n    <tr>\n      <th>4</th>\n      <td>74.0</td>\n      <td>13830.0</td>\n      <td>1997.0</td>\n      <td>1998.0</td>\n      <td>0.0</td>\n      <td>3.0</td>\n      <td>0.0</td>\n      <td>137.0</td>\n      <td>928.0</td>\n      <td>928.0</td>\n      <td>...</td>\n      <td>0</td>\n      <td>0</td>\n      <td>0</td>\n      <td>0</td>\n      <td>1</td>\n      <td>0</td>\n      <td>0</td>\n      <td>0</td>\n      <td>1</td>\n      <td>0</td>\n    </tr>\n  </tbody>\n</table>\n<p>5 rows × 307 columns</p>\n</div>"
     },
     "execution_count": 29,
     "metadata": {},
     "output_type": "execute_result"
    }
   ],
   "source": [
    "one_hot_encode_cols = data.dtypes[data.dtypes == np.object]\n",
    "one_hot_encode_cols = one_hot_encode_cols.index.tolist()\n",
    "\n",
    "\n",
    "data_oh = pd.get_dummies(data, columns=one_hot_encode_cols, drop_first=True)\n",
    "data_oh.head()"
   ],
   "metadata": {
    "collapsed": false
   }
  },
  {
   "cell_type": "code",
   "execution_count": null,
   "outputs": [],
   "source": [],
   "metadata": {
    "collapsed": false
   }
  }
 ],
 "metadata": {
  "kernelspec": {
   "display_name": "Python 3",
   "language": "python",
   "name": "python3"
  },
  "language_info": {
   "codemirror_mode": {
    "name": "ipython",
    "version": 2
   },
   "file_extension": ".py",
   "mimetype": "text/x-python",
   "name": "python",
   "nbconvert_exporter": "python",
   "pygments_lexer": "ipython2",
   "version": "2.7.6"
  }
 },
 "nbformat": 4,
 "nbformat_minor": 0
}
